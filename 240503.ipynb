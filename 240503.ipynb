{
  "nbformat": 4,
  "nbformat_minor": 0,
  "metadata": {
    "colab": {
      "provenance": [],
      "authorship_tag": "ABX9TyMLaqjz2Q1+/E2Ei9XKvkWs",
      "include_colab_link": true
    },
    "kernelspec": {
      "name": "python3",
      "display_name": "Python 3"
    },
    "language_info": {
      "name": "python"
    }
  },
  "cells": [
    {
      "cell_type": "markdown",
      "metadata": {
        "id": "view-in-github",
        "colab_type": "text"
      },
      "source": [
        "<a href=\"https://colab.research.google.com/github/minwoo111111/AI-Python/blob/main/240503.ipynb\" target=\"_parent\"><img src=\"https://colab.research.google.com/assets/colab-badge.svg\" alt=\"Open In Colab\"/></a>"
      ]
    },
    {
      "cell_type": "code",
      "source": [
        "#패키지: 모듈을 포함하는 디렉터리. 파이썬 프로그램을 구성하는 여러 모듈들을 그룹화하여 관리할 수 있게 해주는 도구. 모듈을 계층적으로 구조화해허 더 큰 프로젝트를 구성하는 데 사용함.\n",
        "      #외부패키지: 내부패키지와 달리 설치 과정이 필요함.\n",
        "      #외부패키지의 설치: pip *명령어*를 사용하여 설치.   미니콘다에서는 conda 명령어로 설치.\n",
        "      #아나콘다는 다양한 패키지가 미리 설치돼있어 편리. 무겁단 단점은 있지만...\n",
        "#모듈: 파이썬 코드를 담고 있는 파이썬 파일임. *.py    모듈이 담고 있는 정의를 재사용해 쓸 수 있는 것.\n",
        "#패키지와 모듈의 관계: 패키지는 서로 연관성 있는 모듈의 집합이고, 모듈은 패키지의 구성 요소이다."
      ],
      "metadata": {
        "id": "nwSocj4UFMoB"
      },
      "execution_count": null,
      "outputs": []
    },
    {
      "cell_type": "code",
      "execution_count": 29,
      "metadata": {
        "colab": {
          "base_uri": "https://localhost:8080/"
        },
        "id": "DQK1y6Tj-III",
        "outputId": "8aa4a851-8b72-4c97-8e3a-b888b9575d05"
      },
      "outputs": [
        {
          "output_type": "stream",
          "name": "stdout",
          "text": [
            "Requirement already satisfied: numpy in /usr/local/lib/python3.10/dist-packages (1.25.2)\n"
          ]
        }
      ],
      "source": [
        "pip install numpy  #numpy 패키지를 컴퓨터에 설치\n"
      ]
    },
    {
      "cell_type": "code",
      "source": [
        "pip install pandas #pandas 패키지를 컴퓨터에 설치"
      ],
      "metadata": {
        "id": "2jrumz84KNWT"
      },
      "execution_count": null,
      "outputs": []
    },
    {
      "cell_type": "code",
      "source": [
        "import numpy #넘파이 기본 설정. 컴퓨터에 패키지를 설치하고 나서 import문으로 불러와야 함.\n",
        "import pandas #컴퓨터에 패키지를 설치하지도 않은 pandas를 import해오는 것은 불가능함. Module not found error가 나타남.\n",
        "\n",
        "#패키지들을 별칭을 사용해 불러올 수 있음. 패키지 이름을 줄이고 코드를 간결하게 만들 수 있기 때문임.\n",
        "import numpy as np  #numpy를 np라는 이름으로 줄여불러라\n",
        "import pandas as pd  #pandas를 pd라는 이름으로 줄여불러라\n",
        "\n",
        "print(np.__version__)  #넘파이 버전 확인"
      ],
      "metadata": {
        "colab": {
          "base_uri": "https://localhost:8080/"
        },
        "id": "fnCq_1o-BR8C",
        "outputId": "4fa6dfb1-0027-4b9f-ea95-355c6d46c788"
      },
      "execution_count": 30,
      "outputs": [
        {
          "output_type": "stream",
          "name": "stdout",
          "text": [
            "1.25.2\n"
          ]
        }
      ]
    },
    {
      "cell_type": "code",
      "source": [
        "pip list"
      ],
      "metadata": {
        "id": "2eCpDWBDDA-w"
      },
      "execution_count": null,
      "outputs": []
    },
    {
      "cell_type": "code",
      "source": [
        "#넘파이를 쓰는 이유: 파이썬에서 벡터, 행렬 등의 ***다차원 배열***을 효율적으로 처리할 수 있도록 / 큰 배열과 행렬 연산에 필요한 다양한 함수를 제공\n",
        "    #효율적 데이터 저장과 접근, 데이터 연산 및 분석.\n",
        "    #n차원의 배열을 효과적으로 다룰 수 있음."
      ],
      "metadata": {
        "id": "oxuB_X64KsVv"
      },
      "execution_count": null,
      "outputs": []
    },
    {
      "cell_type": "code",
      "source": [
        "#numpy는 다양한 방법으로 배열을 생성.\n",
        "\n",
        "#np.array(): 리스트나 튜플로부터 배열 생성.\n",
        "\n",
        "#1차원 배열\n",
        "arr1d=np.array([1,2,3,4,5])\n",
        "print(arr1d)\n",
        "\n",
        "#이 데이터에 대한 배열의 형태, 차원, 데이터 타입 확인하려면 속성을 사용하면 됨\n",
        "print(\"Shape:\", arr2d.ndim)  #등등\n",
        "\n",
        "lst=[1,2,3]\n",
        "arr=np.array(lst)\n",
        "\n",
        "print(type(lst),lst)  #둘은 타입이 다르다. 이건 리스트고 밑에껀 넘파이의 객체\n",
        "print(type(arr),arr)"
      ],
      "metadata": {
        "colab": {
          "base_uri": "https://localhost:8080/",
          "height": 239
        },
        "id": "6jsmuwCpPkz2",
        "outputId": "51e76c20-ff2b-4492-8449-a6f9ba645fbb"
      },
      "execution_count": 33,
      "outputs": [
        {
          "output_type": "stream",
          "name": "stdout",
          "text": [
            "[1 2 3 4 5]\n"
          ]
        },
        {
          "output_type": "error",
          "ename": "NameError",
          "evalue": "name 'arr2d' is not defined",
          "traceback": [
            "\u001b[0;31m---------------------------------------------------------------------------\u001b[0m",
            "\u001b[0;31mNameError\u001b[0m                                 Traceback (most recent call last)",
            "\u001b[0;32m<ipython-input-33-5cfab0b8e7b6>\u001b[0m in \u001b[0;36m<cell line: 10>\u001b[0;34m()\u001b[0m\n\u001b[1;32m      8\u001b[0m \u001b[0;34m\u001b[0m\u001b[0m\n\u001b[1;32m      9\u001b[0m \u001b[0;31m#이 데이터에 대한 배열의 형태, 차원, 데이터 타입 확인하려면 속성을 사용하면 됨\u001b[0m\u001b[0;34m\u001b[0m\u001b[0;34m\u001b[0m\u001b[0m\n\u001b[0;32m---> 10\u001b[0;31m \u001b[0mprint\u001b[0m\u001b[0;34m(\u001b[0m\u001b[0;34m\"Shape:\"\u001b[0m\u001b[0;34m,\u001b[0m \u001b[0marr2d\u001b[0m\u001b[0;34m.\u001b[0m\u001b[0mndim\u001b[0m\u001b[0;34m)\u001b[0m  \u001b[0;31m#등등\u001b[0m\u001b[0;34m\u001b[0m\u001b[0;34m\u001b[0m\u001b[0m\n\u001b[0m\u001b[1;32m     11\u001b[0m \u001b[0;34m\u001b[0m\u001b[0m\n\u001b[1;32m     12\u001b[0m \u001b[0mlst\u001b[0m\u001b[0;34m=\u001b[0m\u001b[0;34m[\u001b[0m\u001b[0;36m1\u001b[0m\u001b[0;34m,\u001b[0m\u001b[0;36m2\u001b[0m\u001b[0;34m,\u001b[0m\u001b[0;36m3\u001b[0m\u001b[0;34m]\u001b[0m\u001b[0;34m\u001b[0m\u001b[0;34m\u001b[0m\u001b[0m\n",
            "\u001b[0;31mNameError\u001b[0m: name 'arr2d' is not defined"
          ]
        }
      ]
    },
    {
      "cell_type": "code",
      "source": [
        "#np.arrange(): 일정한 간격의 값들을 가진 배열 생성\n",
        "\n",
        "import numpy as np\n",
        "# 0부터 9까지\n",
        "arr = np.arange(10)\n",
        "print(arr)\n",
        "# 2부터 19까지, 간격은 2\n",
        "arr = np.arange(2, 20, 2)\n",
        "print(arr)\n"
      ],
      "metadata": {
        "id": "4gcATQ2WPx3O"
      },
      "execution_count": null,
      "outputs": []
    },
    {
      "cell_type": "code",
      "source": [
        "#np.zeros(): 모든 값이 0인 배열 생성\n",
        "import numpy as np\n",
        "# 1차원 배열\n",
        "zeros_1d = np.zeros(5)\n",
        "print(zeros_1d)\n",
        "# 2차원 배열\n",
        "zeros_2d = np.zeros((3, 4))\n",
        "print(zeros_2d)\n",
        "\n",
        "#np.ones(): 모든 값이 1인 배열 생성\n",
        "import numpy as np\n",
        "# 1차원 배열\n",
        "ones_1d = np.ones(5)\n",
        "print(ones_1d)\n",
        "# 2차원 배열\n",
        "ones_2d = np.ones((3, 4))\n",
        "print(ones_2d)\n",
        "\n",
        "\n",
        "#np.random.rand(): 무작위 값들을 가진 배열 생성   #단, 랜덤으로 만들 때 범위는 0~1 사이의 수가 생성됨.\n",
        "import numpy as np\n",
        "# 1차원 배열\n",
        "arr_1d = np.random.rand(5)\n",
        "print(arr_1d)\n",
        "# 2차원 배열\n",
        "arr_2d = np.random.rand((2, 3))\n",
        "print(arr_2d)\n",
        "\n",
        "#np.linspace(): 지정한 범위 내에서 균일한 간격의 값들을 가진 배열 생성\n",
        "import numpy as np\n",
        "# 0부터 1까지 5개의 값\n",
        "arr = np.linspace(0, 1, 5)\n",
        "print(arr)\n",
        "\n",
        "#다양한 수학, 통계, 공학 함수도 제공.\n",
        "#np.sum\n",
        "#np.mean\n",
        "#np.max\n",
        "#np.min"
      ],
      "metadata": {
        "colab": {
          "base_uri": "https://localhost:8080/",
          "height": 496
        },
        "id": "i8Vi4TSvQhLV",
        "outputId": "6998c2e8-27cb-49db-9972-e64c5272b0e1"
      },
      "execution_count": 46,
      "outputs": [
        {
          "output_type": "stream",
          "name": "stdout",
          "text": [
            "[0. 0. 0. 0. 0.]\n",
            "[[0. 0. 0. 0.]\n",
            " [0. 0. 0. 0.]\n",
            " [0. 0. 0. 0.]]\n",
            "[1. 1. 1. 1. 1.]\n",
            "[[1. 1. 1. 1.]\n",
            " [1. 1. 1. 1.]\n",
            " [1. 1. 1. 1.]]\n",
            "[0.9202237  0.81354134 0.96877505 0.02979435 0.83695439]\n"
          ]
        },
        {
          "output_type": "error",
          "ename": "TypeError",
          "evalue": "'tuple' object cannot be interpreted as an integer",
          "traceback": [
            "\u001b[0;31m---------------------------------------------------------------------------\u001b[0m",
            "\u001b[0;31mTypeError\u001b[0m                                 Traceback (most recent call last)",
            "\u001b[0;32m<ipython-input-46-4115d4d71ced>\u001b[0m in \u001b[0;36m<cell line: 26>\u001b[0;34m()\u001b[0m\n\u001b[1;32m     24\u001b[0m \u001b[0mprint\u001b[0m\u001b[0;34m(\u001b[0m\u001b[0marr_1d\u001b[0m\u001b[0;34m)\u001b[0m\u001b[0;34m\u001b[0m\u001b[0;34m\u001b[0m\u001b[0m\n\u001b[1;32m     25\u001b[0m \u001b[0;31m# 2차원 배열\u001b[0m\u001b[0;34m\u001b[0m\u001b[0;34m\u001b[0m\u001b[0m\n\u001b[0;32m---> 26\u001b[0;31m \u001b[0marr_2d\u001b[0m \u001b[0;34m=\u001b[0m \u001b[0mnp\u001b[0m\u001b[0;34m.\u001b[0m\u001b[0mrandom\u001b[0m\u001b[0;34m.\u001b[0m\u001b[0mrand\u001b[0m\u001b[0;34m(\u001b[0m\u001b[0;34m(\u001b[0m\u001b[0;36m2\u001b[0m\u001b[0;34m,\u001b[0m \u001b[0;36m3\u001b[0m\u001b[0;34m)\u001b[0m\u001b[0;34m)\u001b[0m\u001b[0;34m\u001b[0m\u001b[0;34m\u001b[0m\u001b[0m\n\u001b[0m\u001b[1;32m     27\u001b[0m \u001b[0mprint\u001b[0m\u001b[0;34m(\u001b[0m\u001b[0marr_2d\u001b[0m\u001b[0;34m)\u001b[0m\u001b[0;34m\u001b[0m\u001b[0;34m\u001b[0m\u001b[0m\n\u001b[1;32m     28\u001b[0m \u001b[0;34m\u001b[0m\u001b[0m\n",
            "\u001b[0;32mmtrand.pyx\u001b[0m in \u001b[0;36mnumpy.random.mtrand.RandomState.rand\u001b[0;34m()\u001b[0m\n",
            "\u001b[0;32mmtrand.pyx\u001b[0m in \u001b[0;36mnumpy.random.mtrand.RandomState.random_sample\u001b[0;34m()\u001b[0m\n",
            "\u001b[0;32m_common.pyx\u001b[0m in \u001b[0;36mnumpy.random._common.double_fill\u001b[0;34m()\u001b[0m\n",
            "\u001b[0;31mTypeError\u001b[0m: 'tuple' object cannot be interpreted as an integer"
          ]
        }
      ]
    },
    {
      "cell_type": "markdown",
      "source": [
        "연습문제"
      ],
      "metadata": {
        "id": "ZJ8BwPcUSjva"
      }
    },
    {
      "cell_type": "code",
      "source": [
        "# 최초에 import문으로 패키지를 불러들여야 한다는 것에 유의!!\n",
        "\n",
        "#1부터 10까지(미포함)의 2걸음 크기의 정수값 배열을 생성해보자.\n",
        "import numpy as np\n",
        "arr=np.arange(1,10,2)\n",
        "print(arr)\n",
        "\n",
        "\n",
        "#모양이 (3, 4)인 모든 값이 1인 배열을 생성해보자.   <-그니까... 행이 3줄, 열이 4줄인 리스트를 만들라는거인 듯\n",
        "arr1=np.ones((3, 4))\n",
        "print(arr1)\n",
        "\n",
        "#0과 1 사이를 10등분하고자 할 때 등분값 배열을 생성해보자.\n",
        "arr2=np.linspace(0,1,10)\n",
        "print(arr2)\n",
        "\n",
        "\n",
        "#array를 사용한 배열 생성\n",
        "a=np.array(\n",
        "    [[1,2,3,4,5],\n",
        "     [6,7,8,9,10],\n",
        "     [11,12,13,14,15],\n",
        "     [16,17,18,19,20],\n",
        "     [21,22,23,24,25]]\n",
        "     )\n",
        "print(a)\n",
        "\n",
        "print(\"디멘션 구성:\",a.shape)\n",
        "print(\"전체 원소의 개수:\",a.size)\n",
        "print(\"차원의 개수:\",a.ndim)\n",
        "print(\"데이터 타입:\",a.dtype)\n",
        "\n",
        "\n",
        "#랜덤\n",
        "arr3=np.random.rand(5)\n",
        "arr4=np.random.rand(5, 6)\n",
        "print(arr3)\n",
        "print(arr4)"
      ],
      "metadata": {
        "colab": {
          "base_uri": "https://localhost:8080/"
        },
        "id": "n10Q3zmCShk7",
        "outputId": "96375094-083d-4c52-df53-6e385b4c5515"
      },
      "execution_count": 50,
      "outputs": [
        {
          "output_type": "stream",
          "name": "stdout",
          "text": [
            "[1 3 5 7 9]\n",
            "[[1. 1. 1. 1.]\n",
            " [1. 1. 1. 1.]\n",
            " [1. 1. 1. 1.]]\n",
            "[0.         0.11111111 0.22222222 0.33333333 0.44444444 0.55555556\n",
            " 0.66666667 0.77777778 0.88888889 1.        ]\n",
            "[[ 1  2  3  4  5]\n",
            " [ 6  7  8  9 10]\n",
            " [11 12 13 14 15]\n",
            " [16 17 18 19 20]\n",
            " [21 22 23 24 25]]\n",
            "디멘션 구성: (5, 5)\n",
            "전체 원소의 개수: 25\n",
            "차원의 개수: 2\n",
            "데이터 타입: int64\n",
            "[0.53081558 0.76340216 0.14111507 0.40306085 0.76429151]\n",
            "[[0.44371779 0.3036046  0.21097056 0.28325294 0.85356762 0.79199652]\n",
            " [0.80959823 0.07776315 0.3073369  0.82519405 0.43572339 0.9068409 ]\n",
            " [0.9906171  0.26679024 0.44030442 0.68429146 0.57758859 0.54728747]\n",
            " [0.52847797 0.53142018 0.24010742 0.95657441 0.69486297 0.49360639]\n",
            " [0.01256023 0.70829124 0.05045254 0.16019782 0.87699684 0.02646152]]\n"
          ]
        }
      ]
    },
    {
      "cell_type": "code",
      "source": [
        "arr2=np.linspace(0,1,10)\n",
        "arr2"
      ],
      "metadata": {
        "colab": {
          "base_uri": "https://localhost:8080/"
        },
        "id": "2hc94b30S5Uu",
        "outputId": "feed7f72-f601-4b41-b2cd-cde935ed117f"
      },
      "execution_count": 51,
      "outputs": [
        {
          "output_type": "execute_result",
          "data": {
            "text/plain": [
              "array([0.        , 0.11111111, 0.22222222, 0.33333333, 0.44444444,\n",
              "       0.55555556, 0.66666667, 0.77777778, 0.88888889, 1.        ])"
            ]
          },
          "metadata": {},
          "execution_count": 51
        }
      ]
    },
    {
      "cell_type": "markdown",
      "source": [
        "#배열의 인덱싱과 슬라이싱"
      ],
      "metadata": {
        "id": "q0IqK1bRXgAl"
      }
    },
    {
      "cell_type": "code",
      "source": [
        "#A행렬을 생성해보자.\n",
        "a=np.array(\n",
        "    [[1,2,3,4,5],\n",
        "     [6,7,8,9,10],\n",
        "     [11,12,13,14,15],\n",
        "     [16,17,18,19,20],\n",
        "     [21,22,23,24,25]]\n",
        "     )\n",
        "\n",
        "#A의 모양을 출력해보자.\n",
        "print(\"A의 모양:\", a.shape)\n",
        "\n",
        "#19값을 추출해보자.\n",
        "print(a[3,3])\n",
        "\n",
        "#슬라이싱을 이용하여 [[1,2], [6,7]]값을 추출해보자\n",
        "print(a[0:2],a[0:2])  #???????????????????\n",
        "\n",
        "#슬라이싱을 이용하여 [[19,20], [24,25]]값을 추출해보자\n",
        "print(a[-1:-2, a[-1:-2]])  #???    #뭐어떡하란거지.....\n",
        "\n",
        "#슬라이싱을 이용하여 0축의 첫번째 행과 두번째 행을 추출해보자  #행만 표현하라는얘기\n",
        "\n",
        "#슬라이싱을 이용하여 1축의 마지막 열과 마지막 직전 열을 추출해보자.  #행열 다 표현하라는 얘기"
      ],
      "metadata": {
        "colab": {
          "base_uri": "https://localhost:8080/",
          "height": 110
        },
        "id": "lZSVh0URXNy-",
        "outputId": "353c8aa2-aa7e-4cd3-8e02-9e880bff7c86"
      },
      "execution_count": 78,
      "outputs": [
        {
          "output_type": "error",
          "ename": "SyntaxError",
          "evalue": "invalid syntax (<ipython-input-78-6721516a4a3a>, line 17)",
          "traceback": [
            "\u001b[0;36m  File \u001b[0;32m\"<ipython-input-78-6721516a4a3a>\"\u001b[0;36m, line \u001b[0;32m17\u001b[0m\n\u001b[0;31m    print(a[0:2]:a[0:2])\u001b[0m\n\u001b[0m                ^\u001b[0m\n\u001b[0;31mSyntaxError\u001b[0m\u001b[0;31m:\u001b[0m invalid syntax\n"
          ]
        }
      ]
    },
    {
      "cell_type": "code",
      "source": [
        "a=np.array([[[1,2,3,4],\n",
        "        [5,6,7,8],\n",
        "        [9,10,11,12]],\n",
        "      [[13,14,15,16],\n",
        "       [17,18,19,20],\n",
        "       [21,22,23,24]],\n",
        "      [[25,26,27,28],\n",
        "       [29,30,31,32],\n",
        "       [33,34,35,36]]])\n",
        "\n",
        "\n",
        "#위와 같은 a행렬을 생성하세요\n",
        "arr=np.arange(1,37)\n",
        "arr_3d=arr.reshape(3,4,3)  #3차원배열하삼\n",
        "arr_3d\n",
        "\n",
        "#a의 모양과 크기를 출력해보자\n",
        "print(a.shape)\n",
        "print(a.size)\n",
        "\n",
        "#a의 모양을 (3,4,3)으로 변경해보자\n",
        "a_t=a.t\n",
        "\n",
        "#a를 1차원 배열로 구성해보자\n",
        "\n",
        "#뭐어떡하란거지....."
      ],
      "metadata": {
        "id": "Fkf1Kmi4X4qs"
      },
      "execution_count": 82,
      "outputs": []
    },
    {
      "cell_type": "code",
      "source": [],
      "metadata": {
        "id": "vUQFqUh0cU4b"
      },
      "execution_count": null,
      "outputs": []
    }
  ]
}