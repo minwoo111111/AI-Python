{
  "nbformat": 4,
  "nbformat_minor": 0,
  "metadata": {
    "colab": {
      "provenance": [],
      "authorship_tag": "ABX9TyOqhBd/1r4UEWl3Va+r0IvF",
      "include_colab_link": true
    },
    "kernelspec": {
      "name": "python3",
      "display_name": "Python 3"
    },
    "language_info": {
      "name": "python"
    }
  },
  "cells": [
    {
      "cell_type": "markdown",
      "metadata": {
        "id": "view-in-github",
        "colab_type": "text"
      },
      "source": [
        "<a href=\"https://colab.research.google.com/github/minwoo111111/AI-Python/blob/main/240419.ipynb\" target=\"_parent\"><img src=\"https://colab.research.google.com/assets/colab-badge.svg\" alt=\"Open In Colab\"/></a>"
      ]
    },
    {
      "cell_type": "code",
      "execution_count": 2,
      "metadata": {
        "colab": {
          "base_uri": "https://localhost:8080/"
        },
        "id": "O-mq6e515uVm",
        "outputId": "21b0d9c9-1183-4936-f4ef-0e9d78ec9ce8"
      },
      "outputs": [
        {
          "output_type": "stream",
          "name": "stdout",
          "text": [
            "[2, 3, 6, 7]\n",
            "[6, 2, 7, 2]\n",
            "[2, 4, 3, 3]\n"
          ]
        }
      ],
      "source": [
        "#2차원 리스트\n",
        "\n",
        "#1.한줄씩 출력하기\n",
        "score=[[2,3,6,7],\n",
        "       [6,2,7,2],\n",
        "       [2,4,3,3]]\n",
        "\n",
        "for sc in score:\n",
        "  print(sc)"
      ]
    },
    {
      "cell_type": "code",
      "source": [
        "#딕셔너리\n",
        "\n",
        "emails={\"alice\": \"alice@naver.com\", \"bob\": \"bob@naver.com\", \"tom\"=\"tom@naver.com\"}"
      ],
      "metadata": {
        "colab": {
          "base_uri": "https://localhost:8080/",
          "height": 110
        },
        "id": "dCtkn19l7a_Z",
        "outputId": "673cf4ef-97f7-4101-94cb-dc751fb0c451"
      },
      "execution_count": 3,
      "outputs": [
        {
          "output_type": "error",
          "ename": "SyntaxError",
          "evalue": "invalid syntax. Perhaps you forgot a comma? (<ipython-input-3-6e3fa93c1fc8>, line 3)",
          "traceback": [
            "\u001b[0;36m  File \u001b[0;32m\"<ipython-input-3-6e3fa93c1fc8>\"\u001b[0;36m, line \u001b[0;32m3\u001b[0m\n\u001b[0;31m    emails={\"alice\": \"alice@naver.com, \"bob\": \"}\u001b[0m\n\u001b[0m                     ^\u001b[0m\n\u001b[0;31mSyntaxError\u001b[0m\u001b[0;31m:\u001b[0m invalid syntax. Perhaps you forgot a comma?\n"
          ]
        }
      ]
    },
    {
      "cell_type": "markdown",
      "source": [
        "#비어있는 score 리스트 변수를 사용하여 학생들의 점수를 입력받는다. 모든 학생들의 합계, 총인원수, 평균을 출력해보자. 만약 입력받은 점수가 숫자가 아닌 문자이면 입력을 종료한다. 아래 프로그램 실행 결과를 참고하여 작성해보자."
      ],
      "metadata": {
        "id": "uYPlKeBG8HzI"
      }
    },
    {
      "cell_type": "code",
      "source": [
        "a=\"a\"\n",
        "print(type(a))"
      ],
      "metadata": {
        "colab": {
          "base_uri": "https://localhost:8080/"
        },
        "id": "o4V3PrOl9zkW",
        "outputId": "24dda110-de4f-415e-a6e7-c1d03408fddd"
      },
      "execution_count": 4,
      "outputs": [
        {
          "output_type": "stream",
          "name": "stdout",
          "text": [
            "<class 'str'>\n"
          ]
        }
      ]
    },
    {
      "cell_type": "code",
      "source": [
        "#숫자인지 문자인지 처리할 수 있는 로직 필요\n",
        "\n",
        "#for문은 반복의 횟수가 정해져있는 거임... 이럴 땐 while 써서 해야\n",
        "#while 조건식:\n",
        "    #조건식이 참일 때 반복하여 실행\n",
        "\n",
        "\n",
        "score=[]\n",
        "\n",
        "while True:  #while true는 무한반복\n",
        "  a=(input(\"점수를 입력하세요\"))\n",
        "  if a.isdigit():  #isgidit이라는 메소드는 숫자인지 판단하는 메소드. 즉 a가 숫자이면 append(a)하여 리스트에 추가하라.\n",
        "    score.append(int(a))    #이때, input은 문자로 입력되므로, int(a)로 a를 숫자로 형변환 해줘야함. 안 그러면 합계, 평균 등의 연산이 안 됨..\n",
        "  else:\n",
        "    break    #isdigit이 아니면, 즉 입력된 i가 숫자가 아니면 반복을 종료해라.\n",
        "\n",
        "print(\"입력데이터는: \", score)\n",
        "print(\"모든 점수의 합계는 :\", sum(score))\n",
        "print(\"총 인원수는\", len(score))\n",
        "print(\"점수의 평균은\", sum(score)/len(score))\n",
        "\n",
        "\n"
      ],
      "metadata": {
        "colab": {
          "base_uri": "https://localhost:8080/"
        },
        "id": "UQj-g-2C8AjA",
        "outputId": "2747cbb5-fa94-4b19-8345-4ab5b1ff9ea1"
      },
      "execution_count": 16,
      "outputs": [
        {
          "output_type": "stream",
          "name": "stdout",
          "text": [
            "점수를 입력하세요30\n",
            "점수를 입력하세요60\n",
            "점수를 입력하세요70\n",
            "점수를 입력하세요30\n",
            "점수를 입력하세요20\n",
            "점수를 입력하세요20\n",
            "점수를 입력하세요10\n",
            "점수를 입력하세요40\n",
            "점수를 입력하세요70\n",
            "점수를 입력하세요64\n",
            "점수를 입력하세요53\n",
            "점수를 입력하세요22\n",
            "점수를 입력하세요74\n",
            "점수를 입력하세요ㅁ\n",
            "입력데이터는:  [30, 60, 70, 30, 20, 20, 10, 40, 70, 64, 53, 22, 74]\n",
            "모든 점수의 합계는 : 563\n",
            "총 인원수는 13\n",
            "점수의 평균은 43.30769230769231\n"
          ]
        }
      ]
    },
    {
      "cell_type": "code",
      "source": [
        "#심화문법\n",
        "\n",
        "#1. split&join  <-- 메소드.\n",
        "#split: 문자열을 특정 구분자로 나누어 리스트로 반환하는 메소드.\n",
        "#string.split(구분자)\n",
        "\n",
        "txt=\"apple#banana#cherry#orange\"  #<-이런식으로 특정한 규칙?을 갖고 있지만 \"정제되지 않은!\" 텍스트가 있으면 이를 #을 구분자로 하여 리스트로 반환할 수 있음\n",
        "#데이터 전처리에 필요한 명령어임.\n",
        "\n",
        "\n",
        "#좀 더 활용하기\n",
        "data = \"John,30,Engineer\\nAlice,25,Designer\\nBob,22,Artist\"\n",
        "lines = data.split(\"\\n\")\n",
        "print(lines)   #이렇게 리스트로 반환한 후\n",
        "\n",
        "for line in lines:   #반환한 리스트를 또다시 잘라서 정제하기\n",
        "  fields = line.split(\",\")\n",
        "  print(\"Name:\", fields[0], \"Age:\", fields[1], \"Occupation:\", fields[2])\n",
        "\n",
        "\n",
        "\n",
        "#문제1: split the string\n",
        "#input:apple#banana#cherry#orange\n",
        "#output:['apple', 'banana', 'cherry', 'orange']\n",
        "\n",
        "txt=\"apple#banana#cherry#orange\"\n",
        "print(txt.split(\"#\"))  #이 때, #은 문자열이므로 \"#\"이라 해야함\n",
        "\n"
      ],
      "metadata": {
        "colab": {
          "base_uri": "https://localhost:8080/"
        },
        "id": "H4McRDnj-AWG",
        "outputId": "9562bcbe-0167-46b5-d4ba-bb279ff750f3"
      },
      "execution_count": 29,
      "outputs": [
        {
          "output_type": "stream",
          "name": "stdout",
          "text": [
            "['John,30,Engineer', 'Alice,25,Designer', 'Bob,22,Artist']\n",
            "Name: John Age: 30 Occupation: Engineer\n",
            "Name: Alice Age: 25 Occupation: Designer\n",
            "Name: Bob Age: 22 Occupation: Artist\n",
            "['apple', 'banana', 'cherry', 'orange']\n"
          ]
        }
      ]
    },
    {
      "cell_type": "code",
      "source": [
        "#join: 리스트의 각 요소를 문자열로 반환하고, 주어진 구분자로 결합하여 하나의 **문자열로** 반환\n",
        "#string.join(시퀀스이름)\n",
        "\n",
        "name = (\"John\", \"Peter\", \"Vicky\")\n",
        "x = \"#\".join(name)   # \"#\"라는 문자열을 구분자로 결합하여 문자열로 반환.\n",
        "print(x)\n",
        "\n",
        "words = ['Hello', 'world', 'this', 'is', 'a', 'test']\n",
        "sentence = ' '.join(words)\n",
        "print(sentence)\n",
        "\n",
        "\n",
        "#문제2. Join the string\n",
        "#Input : {'Python', 'Java', 'Ruby'}\n",
        "#Output : Python->Java->Ruby\n",
        "\n",
        "string={'python', 'java', 'ruby'}\n",
        "newstring=\"->\".join(string)\n",
        "print(newstring)\n"
      ],
      "metadata": {
        "colab": {
          "base_uri": "https://localhost:8080/"
        },
        "id": "wjXLeM_WGzgP",
        "outputId": "1908b4ae-8ac4-4122-b4b8-58a6998fb217"
      },
      "execution_count": 26,
      "outputs": [
        {
          "output_type": "stream",
          "name": "stdout",
          "text": [
            "John#Peter#Vicky\n",
            "Hello world this is a test\n",
            "python->ruby->java\n"
          ]
        }
      ]
    },
    {
      "cell_type": "code",
      "source": [
        "#list comprehension: 리스트를 쉽고 짧게 한 줄로 만들 수 있는 파이썬의 문법\n",
        "# newlist=[어떠한 표현식 for 변수 in 시퀀스 if 조건] [표현식은 그 리스트에 넣고싶은 형태... 를 말하는 것. if condition 은 선택사항.]\n",
        "\n",
        "numberlist=[x**2 for x in range(10)] #<--x에 0부터 9까지 각각 대입해서 제곱한 것을 각각 요소로 numberlist라는 리스트를 만들어라\n",
        "numberlist_1=[x**2 for x in range(10) if x%2==0] #<-x에 0부터 9까지 각각 대입해서 제곱하는데, x에 대입된 수가 짝수일 때만 해라. 그것을 리스트로 만들어라.\n",
        "\n",
        "print(numberlist)\n",
        "print(numberlist_1)\n",
        "\n",
        "\n",
        "#문제3: 1부터 10까지의 짝수의 원소를 가진 리스트를 생성\n",
        "list_a=[i for i in range(11) if i%2==0]\n",
        "print(list_a)\n",
        "\n",
        "#문제4: S로 시작하는 도시명으로 리스트를 생성.\n",
        "#Input : [\"Seoul\", \"New York\", \"London\", \"Shanghai\", \"Paris\", \"Tokyo\"]\n",
        "#Output : ['Seoul', 'Shanghai']\n",
        "citylist=[\"Seoul\", \"New York\", \"London\", \"Shanghai\", \"Paris\", \"Tokyo\"]\n",
        "newcitylist=[city for city in citylist if city.startswith(\"S\")]   #newcitylist라는 리스트에 city를 넣어라. citylist에 있는 요소들을 각각 변수 city에 대입하라. 리스트로부터 요소 대입받은 city가 S로 시작할 경우에만 그렇게 하라.\n",
        "print(newcitylist)\n",
        "\n",
        "#startswith() <-시작하는 문자를 확인하는 메소드."
      ],
      "metadata": {
        "colab": {
          "base_uri": "https://localhost:8080/"
        },
        "id": "FwaydlQqHmqV",
        "outputId": "34ca5de3-db71-4f68-f272-118648bb117b"
      },
      "execution_count": 37,
      "outputs": [
        {
          "output_type": "stream",
          "name": "stdout",
          "text": [
            "[0, 1, 4, 9, 16, 25, 36, 49, 64, 81]\n",
            "[0, 4, 16, 36, 64]\n",
            "[0, 2, 4, 6, 8, 10]\n",
            "['Seoul', 'Shanghai']\n"
          ]
        }
      ]
    },
    {
      "cell_type": "code",
      "source": [
        "#lambda & map\n",
        "#lambda는 이름이 없는 익명 함수를 정의할 때 사용. 함수 이름이 없이 그냥 lambda로 쓰는 것.\n",
        "#lambda 매개변수: 표현(즉, 실행문에 해당)\n",
        "double=lambda x: x*2\n",
        "print(double(5))  #이렇게 변수명으로 처리\n",
        "\n",
        "x=lambda a, b, c: a+b+c\n",
        "print(x(5,6,2))\n",
        "\n",
        "#filter: 함수와 순회 가능한 객체를 받아 넘어온 조건 함수를 만족하는 데이터만 찾아서 반환\n",
        "#filter(함수, 객체) 즉... 객체 중에서 함수 조건을 만족하는 것만 찾아서 반환하는 것,\n",
        "nums=[1,2,3,4,5,6,7,8,9,10]\n",
        "odd_nums=list(filter(lambda x: x%2 !=0, nums)) #이 nums라는 객체에 lamda함수를 적용한것만 필터링돼서 리스트로 만듬.\n",
        "\n",
        "\n",
        "\n",
        "#문제5 lambda 함수를 사용하여 숫자 리스트에서 짝수만 필터링\n",
        "#numbers = [1, 2, 3, 4, 5, 6, 7, 8, 9, 10]\n",
        "#Output : [2, 4, 6, 8, 10]\n",
        "\n",
        "numbers = [1, 2, 3, 4, 5, 6, 7, 8, 9, 10]\n",
        "num=list(filter(lambda x: x%2 == 0, numbers))\n",
        "print(num)   #??????"
      ],
      "metadata": {
        "colab": {
          "base_uri": "https://localhost:8080/"
        },
        "id": "WToXqw9sOK4f",
        "outputId": "dfb2bc4f-2090-479a-ac91-8a7a8d32e98c"
      },
      "execution_count": 42,
      "outputs": [
        {
          "output_type": "stream",
          "name": "stdout",
          "text": [
            "10\n",
            "13\n",
            "[2, 4, 6, 8, 10]\n"
          ]
        }
      ]
    },
    {
      "cell_type": "markdown",
      "source": [],
      "metadata": {
        "id": "O4upIoYuJU0k"
      }
    },
    {
      "cell_type": "code",
      "source": [
        "#enumerate: 순회 가능한 객체(리스트 등)을 인덱스와 함께 반환\n",
        "\n",
        "fruits=['apple', 'banana', 'cherry']\n",
        "for idx, fruit in enumerate(fruits): #enumerate는 인덱스 번호와 그 요소값을 반환하므로, idx와 fruit라는 변수가 각각 번호와 요소값을 받는다\n",
        "  print(idx, fruit)\n",
        "\n",
        "#문제\n",
        "#Input : ['Python', 'Java', 'JavaScript']\n",
        "#Output : [(0, 'Python'), (1, 'Java'), (2, 'JavaScript')]\n",
        "\n",
        "ist=['Python', 'Java', 'JavaScript']\n",
        "for a, b in enumerate(ist):\n",
        "  print (a, b)\n",
        "\n",
        "#문제\n",
        "#Input : ['Python', 'Java', 'JavaScript']\n",
        "#Output : [(1, 'Python'), (2, 'Java'), (3, 'JavaScript')]\n",
        "\n",
        "langs=['Python', 'Java', 'JavaScript']\n",
        "newlist=[(idx, lang) for idx, lang in enumerate(langs, start=1)] #(idx, lang)의 형태로 리스트 요소 값을 만들어라. idx, lang이라는 변수는 enumerate(langs)로부터 각각 인덱스 번호와 값을 대입받는다. 이 때, start=1이라 하였으므로 인덱스 번호는 1부터 시작한다.\n",
        "print(newlist)\n",
        "\n"
      ],
      "metadata": {
        "colab": {
          "base_uri": "https://localhost:8080/"
        },
        "id": "5PL6rHasQunn",
        "outputId": "52c3ee06-1cc7-4d2f-94ef-b327cef19406"
      },
      "execution_count": 49,
      "outputs": [
        {
          "output_type": "stream",
          "name": "stdout",
          "text": [
            "0 apple\n",
            "1 banana\n",
            "2 cherry\n",
            "0 Python\n",
            "1 Java\n",
            "2 JavaScript\n",
            "[(1, 'Python'), (2, 'Java'), (3, 'JavaScript')]\n"
          ]
        }
      ]
    },
    {
      "cell_type": "code",
      "source": [
        "#map: 함수와 순회 가능한 객체를 받아 ***객체의 각 항목에 함수를 적용한 결과를 반환.***\n",
        "#map(각 요소에 적용할 함수, 시퀀스)\n",
        "\n",
        "numbers=[1,2,3,4]\n",
        "squared=list(map(lambda x: x*2, numbers))\n",
        "print(squared)\n",
        "\n",
        "\n",
        "list1=[1,2,3]\n",
        "list2=[4,5,6]\n",
        "result=map(lambda x, y: x+y, list1, list2)\n",
        "print(list(result))\n",
        "\n",
        "\n",
        "#문제: 학생들의 성적이 숫자 리스트로 표현되어 있고 이를 등급으로 변환\n",
        "#scores = [88, 92, 78, 60, 75, 95]\n",
        "#Output : ['B', 'A', 'C', 'D', 'C', 'A']\n",
        "def convert_to_grade(score):\n",
        "  if score>=90:\n",
        "    return 'A'\n",
        "  elif score>=80:\n",
        "    return 'B'\n",
        "  elif score>=70:\n",
        "    return 'C'\n",
        "  elif score>=60:\n",
        "    return 'D'\n",
        "  else:\n",
        "    return 'F'\n",
        "\n",
        "print(convert_to_grade(90))\n",
        "\n",
        "\n",
        "scores=[88, 92, 78, 60, 75, 95]\n",
        "new=list(map(convert_to_grade, scores))\n",
        "print(new)\n",
        "\n",
        "\n",
        "\n",
        "#문제: 나이 리스트 중에서 18세 이상 나이만 추출\n",
        "#ages = [5, 12, 17, 18, 24, 32]\n",
        "#Output : [18, 24, 32]\n",
        "\n",
        "ages = [5, 12, 17, 18, 24, 32]\n",
        "new=list(filter(lambda age:age>=18, ages))   #사용자 정의함수를 써도 되지만.. lambda가 간단하고 직관적으로 쓰기 좋다.\n",
        "print(new)"
      ],
      "metadata": {
        "colab": {
          "base_uri": "https://localhost:8080/"
        },
        "id": "Yh8nDzARIITA",
        "outputId": "865d12d6-db8c-4b64-d31c-9de47ef1ccaa"
      },
      "execution_count": 58,
      "outputs": [
        {
          "output_type": "stream",
          "name": "stdout",
          "text": [
            "[2, 4, 6, 8]\n",
            "[5, 7, 9]\n",
            "A\n",
            "['B', 'A', 'C', 'D', 'C', 'A']\n",
            "[18, 24, 32]\n"
          ]
        }
      ]
    },
    {
      "cell_type": "code",
      "source": [
        "#시험범위는 여기까지...\n",
        "필기는 20~25문항 . 플라토 퀴즈처럼 단답, 4지선다. CBT\n",
        "실기는... 강의PPT 참고하는 것 ㄱㅊ. VScode에서 하고.. OJ에서...OJ의 입출력 방식 맞출 것!!"
      ],
      "metadata": {
        "id": "PhokyzV7Tm-v"
      },
      "execution_count": null,
      "outputs": []
    },
    {
      "cell_type": "code",
      "source": [],
      "metadata": {
        "id": "7Zqz43NLYtn_"
      },
      "execution_count": null,
      "outputs": []
    }
  ]
}