{
  "nbformat": 4,
  "nbformat_minor": 0,
  "metadata": {
    "colab": {
      "provenance": []
    },
    "kernelspec": {
      "name": "python3",
      "display_name": "Python 3"
    },
    "language_info": {
      "name": "python"
    }
  },
  "cells": [
    {
      "cell_type": "markdown",
      "source": [
        "**두 수를 입력받아서 합을 출력하는 프로그램 ↓**"
      ],
      "metadata": {
        "id": "5lyGTskJ_9II"
      }
    },
    {
      "cell_type": "code",
      "execution_count": 4,
      "metadata": {
        "colab": {
          "base_uri": "https://localhost:8080/"
        },
        "id": "a9UkBtkm-Jnn",
        "outputId": "7a32498c-86a3-4818-e5ff-9a87dc48c77d"
      },
      "outputs": [
        {
          "output_type": "stream",
          "name": "stdout",
          "text": [
            "A와 B를 입력하세요.1 6\n",
            "두 정수의 합은 :  7\n"
          ]
        }
      ],
      "source": [
        "# 두 정수 A와 B를 입력받기\n",
        "A, B = map(int, input(\"A와 B를 입력하세요.\").split())\n",
        "\n",
        "# A와 B의 합 계산\n",
        "result = A + B\n",
        "\n",
        "# 결과 출력\n",
        "print(\"두 정수의 합은 : \", result)"
      ]
    },
    {
      "cell_type": "code",
      "source": [
        "print(\"Hello Python\")"
      ],
      "metadata": {
        "colab": {
          "base_uri": "https://localhost:8080/"
        },
        "id": "8l9V8teS_dXK",
        "outputId": "af46754d-ee7d-4642-bf57-6f76eef60414"
      },
      "execution_count": 5,
      "outputs": [
        {
          "output_type": "stream",
          "name": "stdout",
          "text": [
            "Hello Python\n"
          ]
        }
      ]
    },
    {
      "cell_type": "markdown",
      "source": [
        "코드를 작성한 후 SHIFT+ENTER를 하면 코드를 실행한 후 바로 다음 셀을 만들어 준다. (CTRL+ENTER는 그냥 그자리에서 실행만)"
      ],
      "metadata": {
        "id": "h_EW-3fC_19C"
      }
    },
    {
      "cell_type": "markdown",
      "source": [
        "**두 정수 A와 B가 주어졌을 때, A와 B를 비교하는 프로그램**"
      ],
      "metadata": {
        "id": "9wJlAO9gCvlQ"
      }
    },
    {
      "cell_type": "code",
      "source": [
        "def main():\n",
        "    # 두 정수 A와 B를 입력받음\n",
        "    A, B = map(int, input().split())\n",
        "\n",
        "    # A와 B를 비교하여 결과 출력\n",
        "    if A > B:\n",
        "        print(\">\")\n",
        "    elif A < B:\n",
        "        print(\"<\")\n",
        "    else:\n",
        "        print(\"==\")\n",
        "\n",
        "if __name__ == \"__main__\":\n",
        "    main()"
      ],
      "metadata": {
        "id": "sOWCoavhAsdd"
      },
      "execution_count": null,
      "outputs": []
    }
  ]
}