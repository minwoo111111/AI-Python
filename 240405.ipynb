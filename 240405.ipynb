{
  "nbformat": 4,
  "nbformat_minor": 0,
  "metadata": {
    "colab": {
      "provenance": [],
      "authorship_tag": "ABX9TyMaUWHIRqEciAcwSmSivEft",
      "include_colab_link": true
    },
    "kernelspec": {
      "name": "python3",
      "display_name": "Python 3"
    },
    "language_info": {
      "name": "python"
    }
  },
  "cells": [
    {
      "cell_type": "markdown",
      "metadata": {
        "id": "view-in-github",
        "colab_type": "text"
      },
      "source": [
        "<a href=\"https://colab.research.google.com/github/minwoo111111/AI-Python/blob/main/240405.ipynb\" target=\"_parent\"><img src=\"https://colab.research.google.com/assets/colab-badge.svg\" alt=\"Open In Colab\"/></a>"
      ]
    },
    {
      "cell_type": "code",
      "execution_count": null,
      "metadata": {
        "colab": {
          "base_uri": "https://localhost:8080/"
        },
        "id": "0RclCqwA0Cjh",
        "outputId": "54fb5ec8-620d-4291-b518-ae60edaa26c3"
      },
      "outputs": [
        {
          "output_type": "stream",
          "name": "stdout",
          "text": [
            "4\n"
          ]
        }
      ],
      "source": [
        "a=3\n",
        "a+=1  #a=a+1과 같은 뜻\n",
        "print(a)"
      ]
    },
    {
      "cell_type": "code",
      "source": [
        "a=10\n",
        "if a>5:\n",
        "  print(\"a는 5보다 큽니다.\")\n",
        "print(\"프로그램 종료\")"
      ],
      "metadata": {
        "colab": {
          "base_uri": "https://localhost:8080/"
        },
        "id": "VseCIOgt1PLj",
        "outputId": "f1f7889d-038d-4f75-ef9e-ad76f441646e"
      },
      "execution_count": null,
      "outputs": [
        {
          "output_type": "stream",
          "name": "stdout",
          "text": [
            "a는 5보다 큽니다.\n",
            "프로그램 종료\n"
          ]
        }
      ]
    },
    {
      "cell_type": "code",
      "source": [
        "a=10\n",
        "if a>5:\n",
        "  print(\"a는 5보다 큽니다.\")\n",
        "elif a<=5:\n",
        "  print(\"a는 5보다 작거나 같습니다.\")\n",
        "print(\"프로그램 종료\")"
      ],
      "metadata": {
        "colab": {
          "base_uri": "https://localhost:8080/"
        },
        "id": "uS1r7gN53ozh",
        "outputId": "489544bf-71dc-4156-d638-2bddab4789c5"
      },
      "execution_count": null,
      "outputs": [
        {
          "output_type": "stream",
          "name": "stdout",
          "text": [
            "a는 5보다 큽니다.\n",
            "프로그램 종료\n"
          ]
        }
      ]
    },
    {
      "cell_type": "markdown",
      "source": [
        "# a에 할당된 값의 짝수 홀수 여부를 알려주는 프로그램"
      ],
      "metadata": {
        "id": "eDeNeQYl5nuo"
      }
    },
    {
      "cell_type": "code",
      "source": [
        "a=int(input(\"정수를 입력해주세요\"))\n",
        "if a%2==0:\n",
        "  print(\"짝수입니다\")\n",
        "elif a%2==1:   #a%2!==0\n",
        "  print(\"홀수입니다\")"
      ],
      "metadata": {
        "colab": {
          "base_uri": "https://localhost:8080/"
        },
        "id": "GE7970gD5Hk1",
        "outputId": "eea485f2-e7cb-4e77-84cb-cbbcb17593e7"
      },
      "execution_count": null,
      "outputs": [
        {
          "output_type": "stream",
          "name": "stdout",
          "text": [
            "정수를 입력해주세요-2\n",
            "짝수입니다\n"
          ]
        }
      ]
    },
    {
      "cell_type": "code",
      "source": [
        "a=5\n",
        "if a>5:\n",
        "  print('a는 5보다 큽니다')\n",
        "elif a<5:\n",
        "  print('a는 5보다 작습니다')\n",
        "else:\n",
        "  print('a는 5입니다')"
      ],
      "metadata": {
        "colab": {
          "base_uri": "https://localhost:8080/"
        },
        "id": "rwJGQ-Qe7dVX",
        "outputId": "4ac1004b-95b4-41ae-8c07-e9298cb7733e"
      },
      "execution_count": null,
      "outputs": [
        {
          "output_type": "stream",
          "name": "stdout",
          "text": [
            "a는 5입니다\n"
          ]
        }
      ]
    },
    {
      "cell_type": "code",
      "source": [
        "a=10\n",
        "b=5\n",
        "if a>5:\n",
        "  if b<10:\n",
        "    print(\"a는 5보다 크고, b는 10보다 작다\")"
      ],
      "metadata": {
        "colab": {
          "base_uri": "https://localhost:8080/"
        },
        "id": "QxwZKcmK8tD3",
        "outputId": "d9246e27-dd73-4635-c5e6-4ddca546ddb9"
      },
      "execution_count": null,
      "outputs": [
        {
          "output_type": "stream",
          "name": "stdout",
          "text": [
            "a는 5보다 크고, b는 10보다 작다\n"
          ]
        }
      ]
    },
    {
      "cell_type": "code",
      "source": [
        "a=10\n",
        "b=5\n",
        "if a>5 and b<10:\n",
        "  print(\"a는 5보다 크고 b는 10보다 작다\")"
      ],
      "metadata": {
        "colab": {
          "base_uri": "https://localhost:8080/"
        },
        "id": "jUiXJEme9cUm",
        "outputId": "ea081341-080e-4066-8244-9e44c4445ca4"
      },
      "execution_count": null,
      "outputs": [
        {
          "output_type": "stream",
          "name": "stdout",
          "text": [
            "a는 5보다 크고 b는 10보다 작다\n"
          ]
        }
      ]
    },
    {
      "cell_type": "markdown",
      "source": [
        "#0~100점수를 입력받아서 90점이상 A, 80점이상 B, 70점이상 C, 60점이상 D, 그 외 F"
      ],
      "metadata": {
        "id": "NXNXPOav9zmu"
      }
    },
    {
      "cell_type": "code",
      "source": [
        "score=int(input(\"점수를 입력하세요. (0~100점까지)\"))\n",
        "if score>=90 and score<=100:\n",
        "  print(\"A\")\n",
        "elif score<90 and score>=80:\n",
        "  print(\"B\")\n",
        "elif score<80 and score>=70:\n",
        "  print(\"C\")\n",
        "elif score<70 and score>=60:\n",
        "  print(\"D\")\n",
        "elif score>100 or score<0:\n",
        "  print(\"올바른 점수를 입력하세요.\")\n",
        "else:\n",
        "  print(\"F\")\n",
        "\n",
        "#이렇게 하면 순서 상관 없는데"
      ],
      "metadata": {
        "colab": {
          "base_uri": "https://localhost:8080/"
        },
        "id": "jUAjidNW9knw",
        "outputId": "ce4ea581-0161-46a8-ec3e-30dbea61aebf"
      },
      "execution_count": null,
      "outputs": [
        {
          "output_type": "stream",
          "name": "stdout",
          "text": [
            "점수를 입력하세요. (0~100점까지)211\n",
            "올바른 점수를 입력하세요.\n"
          ]
        }
      ]
    },
    {
      "cell_type": "code",
      "source": [
        "score=int(input(\"점수를 입력하세요. (0~100점까지)\"))\n",
        "if score>=90:\n",
        "  grade=\"A\"\n",
        "elif score>=80:\n",
        "  grade=\"b\"\n",
        "elif score>=70:\n",
        "  grade=\"C\"\n",
        "elif score>=60:\n",
        "  grade=\"D\"\n",
        "else:\n",
        "  grade=\"F\"\n",
        "print(grade)\n",
        "\n",
        "#이렇게 하면 순서 중요함. 순서 틀리면 출력값 오류 생길 수도"
      ],
      "metadata": {
        "colab": {
          "base_uri": "https://localhost:8080/"
        },
        "id": "1olw6jBJ-ile",
        "outputId": "8800370a-24ed-43e3-e73e-4a49c607b806"
      },
      "execution_count": null,
      "outputs": [
        {
          "output_type": "stream",
          "name": "stdout",
          "text": [
            "점수를 입력하세요. (0~100점까지)100\n",
            "A\n"
          ]
        }
      ]
    },
    {
      "cell_type": "code",
      "source": [
        "   #반복문 for\n",
        "for i in a:\n",
        "  print(i)\n",
        "for i in a:\n",
        "  print(i,end='')  #한줄씩 안 하고 한번에\n",
        "\n"
      ],
      "metadata": {
        "id": "09L-bv0eAUJa",
        "colab": {
          "base_uri": "https://localhost:8080/"
        },
        "outputId": "8f9e94d9-72f0-407b-b5eb-04972b3da736"
      },
      "execution_count": 49,
      "outputs": [
        {
          "output_type": "stream",
          "name": "stdout",
          "text": [
            "1\n",
            "2\n",
            "3\n",
            "4\n",
            "5\n",
            "123451\n",
            "2\n",
            "3\n",
            "4\n",
            "5\n",
            "15\n"
          ]
        }
      ]
    },
    {
      "cell_type": "code",
      "source": [
        "#시퀀스 내의 값을 모두 더하기\n",
        "\n",
        "a=[1,2,3,4,5]\n",
        "total=0\n",
        "for i in a:\n",
        "  total+=i #total이 0인 상태에서 i에 1, 2, 3, 4, 5가 각각 대입되며 total의 값은 0-->1-->3-->6-->10-->15가 되고\n",
        "print(total) #최종적으로 15가 된 total이 출력된다."
      ],
      "metadata": {
        "colab": {
          "base_uri": "https://localhost:8080/"
        },
        "id": "FHtlagy2FBSM",
        "outputId": "e84dde3e-2143-42b8-aead-5e2c4fe22350"
      },
      "execution_count": 54,
      "outputs": [
        {
          "output_type": "stream",
          "name": "stdout",
          "text": [
            "15\n"
          ]
        }
      ]
    },
    {
      "cell_type": "code",
      "source": [
        "for i in range(1,10,2): #1에서부터 9까지 2씩 증가한 값 범위 생성\n",
        "  print(i)\n",
        "for i in range(10): #0에서부터 9까지의 범위 생성\n",
        "  print(i)\n",
        "for x in '월화수': #반복범위가 문자인 경우\n",
        "  print(x)"
      ],
      "metadata": {
        "colab": {
          "base_uri": "https://localhost:8080/"
        },
        "id": "MIAUcAK_Gwqe",
        "outputId": "ac668118-7b05-4e30-f450-ff26595b755c"
      },
      "execution_count": 59,
      "outputs": [
        {
          "output_type": "stream",
          "name": "stdout",
          "text": [
            "1\n",
            "3\n",
            "5\n",
            "7\n",
            "9\n",
            "0\n",
            "1\n",
            "2\n",
            "3\n",
            "4\n",
            "5\n",
            "6\n",
            "7\n",
            "8\n",
            "9\n",
            "월\n",
            "화\n",
            "수\n"
          ]
        }
      ]
    },
    {
      "cell_type": "code",
      "source": [
        "for i in range(1,11):\n",
        "  print(i)\n",
        "for i in range(11): #0부터 10까지 \"11번\"출력\n",
        "  print(i)"
      ],
      "metadata": {
        "colab": {
          "base_uri": "https://localhost:8080/"
        },
        "id": "p5kj6wSAHEDr",
        "outputId": "8a1fdaea-71d6-4545-ac00-96b583a25063"
      },
      "execution_count": 62,
      "outputs": [
        {
          "output_type": "stream",
          "name": "stdout",
          "text": [
            "1\n",
            "2\n",
            "3\n",
            "4\n",
            "5\n",
            "6\n",
            "7\n",
            "8\n",
            "9\n",
            "10\n",
            "0\n",
            "1\n",
            "2\n",
            "3\n",
            "4\n",
            "5\n",
            "6\n",
            "7\n",
            "8\n",
            "9\n",
            "10\n"
          ]
        }
      ]
    },
    {
      "cell_type": "markdown",
      "source": [
        "#1에서 100사이의 홀수만 출력해보시오"
      ],
      "metadata": {
        "id": "BLah5hYpIOCU"
      }
    },
    {
      "cell_type": "code",
      "source": [
        "for i in range(1,101,2): #홀수만 출력\n",
        "  print(i)\n",
        "for x in range(2, 101, 2):\n",
        "  print(x) #짝수만 출력"
      ],
      "metadata": {
        "colab": {
          "base_uri": "https://localhost:8080/"
        },
        "id": "_l3TxxEWHvor",
        "outputId": "f73b0078-7642-41d4-fe26-6e7c5b9e6e51"
      },
      "execution_count": 65,
      "outputs": [
        {
          "output_type": "stream",
          "name": "stdout",
          "text": [
            "1\n",
            "3\n",
            "5\n",
            "7\n",
            "9\n",
            "11\n",
            "13\n",
            "15\n",
            "17\n",
            "19\n",
            "21\n",
            "23\n",
            "25\n",
            "27\n",
            "29\n",
            "31\n",
            "33\n",
            "35\n",
            "37\n",
            "39\n",
            "41\n",
            "43\n",
            "45\n",
            "47\n",
            "49\n",
            "51\n",
            "53\n",
            "55\n",
            "57\n",
            "59\n",
            "61\n",
            "63\n",
            "65\n",
            "67\n",
            "69\n",
            "71\n",
            "73\n",
            "75\n",
            "77\n",
            "79\n",
            "81\n",
            "83\n",
            "85\n",
            "87\n",
            "89\n",
            "91\n",
            "93\n",
            "95\n",
            "97\n",
            "99\n",
            "2\n",
            "4\n",
            "6\n",
            "8\n",
            "10\n",
            "12\n",
            "14\n",
            "16\n",
            "18\n",
            "20\n",
            "22\n",
            "24\n",
            "26\n",
            "28\n",
            "30\n",
            "32\n",
            "34\n",
            "36\n",
            "38\n",
            "40\n",
            "42\n",
            "44\n",
            "46\n",
            "48\n",
            "50\n",
            "52\n",
            "54\n",
            "56\n",
            "58\n",
            "60\n",
            "62\n",
            "64\n",
            "66\n",
            "68\n",
            "70\n",
            "72\n",
            "74\n",
            "76\n",
            "78\n",
            "80\n",
            "82\n",
            "84\n",
            "86\n",
            "88\n",
            "90\n",
            "92\n",
            "94\n",
            "96\n",
            "98\n",
            "100\n"
          ]
        }
      ]
    },
    {
      "cell_type": "code",
      "source": [
        "for i in range (1,101): #continue문을 활용해 홀수만 출력하기\n",
        "  if i%2==0: #짝수면 스킵하고 변수에 다음 수 대입해라\n",
        "    continue\n",
        "  print(i)"
      ],
      "metadata": {
        "colab": {
          "base_uri": "https://localhost:8080/"
        },
        "id": "bX-bl2FtIW-b",
        "outputId": "d9939823-f058-4a7e-8299-254ab294635c"
      },
      "execution_count": 68,
      "outputs": [
        {
          "output_type": "stream",
          "name": "stdout",
          "text": [
            "1\n",
            "3\n",
            "5\n",
            "7\n",
            "9\n",
            "11\n",
            "13\n",
            "15\n",
            "17\n",
            "19\n",
            "21\n",
            "23\n",
            "25\n",
            "27\n",
            "29\n",
            "31\n",
            "33\n",
            "35\n",
            "37\n",
            "39\n",
            "41\n",
            "43\n",
            "45\n",
            "47\n",
            "49\n",
            "51\n",
            "53\n",
            "55\n",
            "57\n",
            "59\n",
            "61\n",
            "63\n",
            "65\n",
            "67\n",
            "69\n",
            "71\n",
            "73\n",
            "75\n",
            "77\n",
            "79\n",
            "81\n",
            "83\n",
            "85\n",
            "87\n",
            "89\n",
            "91\n",
            "93\n",
            "95\n",
            "97\n",
            "99\n"
          ]
        }
      ]
    },
    {
      "cell_type": "code",
      "source": [
        "for i in range (5):\n",
        "  if i%2==1:\n",
        "    break #홀수면 바로 반복문을 끝내라. --> 변수에 1이 대입되는 순간 반복문 종료.\n",
        "  print(i)"
      ],
      "metadata": {
        "colab": {
          "base_uri": "https://localhost:8080/"
        },
        "id": "HC5RPglQKVVq",
        "outputId": "e4454a58-169c-48bc-9ff6-014700b590e4"
      },
      "execution_count": 69,
      "outputs": [
        {
          "output_type": "stream",
          "name": "stdout",
          "text": [
            "0\n"
          ]
        }
      ]
    },
    {
      "cell_type": "markdown",
      "source": [
        "#1에서 10까지의 짝수의 합과 홀수의 합 각각 구하기 (break, continue 쓰지 말고)"
      ],
      "metadata": {
        "id": "u59WaTgcKtCi"
      }
    },
    {
      "cell_type": "code",
      "source": [
        "홀수합=0\n",
        "짝수합=0\n",
        "for i in range (1,11):\n",
        "  if i%2==1:   #홀수면, 홀수합이라는 변수에 해당 i가 더해진다.\n",
        "    홀수합+=i\n",
        "  else:\n",
        "    짝수합+=i\n",
        "print(홀수합)\n",
        "print(짝수합)\n"
      ],
      "metadata": {
        "colab": {
          "base_uri": "https://localhost:8080/"
        },
        "id": "GxWWrlkZKava",
        "outputId": "a4299502-e0df-4842-e4b1-9a0701764eeb"
      },
      "execution_count": 79,
      "outputs": [
        {
          "output_type": "stream",
          "name": "stdout",
          "text": [
            "25\n",
            "30\n"
          ]
        }
      ]
    },
    {
      "cell_type": "markdown",
      "source": [
        "#하나의 숫자 n를 입력 받아서 때, 1부터 n까지 합을 구하는 프로그램을 작성하시오."
      ],
      "metadata": {
        "id": "ZH1f-PvANbYb"
      }
    },
    {
      "cell_type": "code",
      "source": [
        "n=int(input(\"숫자를 입력하세요\")) #n의 값 입력\n",
        "total=0\n",
        "for i in range(1,n+1): #1부터 n까지 반복하려면 (1,n+1). i에는 1부터 n까지의 수가 아래의 코드블록에서 각각 대입된다.\n",
        "  total+=i #합을 계산\n",
        "print(total) #합을 출력\n",
        ""
      ],
      "metadata": {
        "colab": {
          "base_uri": "https://localhost:8080/"
        },
        "id": "QpgtyqgWNg1j",
        "outputId": "d7e896db-f7bf-44ad-bed7-f8e3ba3dd590"
      },
      "execution_count": 88,
      "outputs": [
        {
          "output_type": "stream",
          "name": "stdout",
          "text": [
            "숫자를 입력하세요10871245\n",
            "59091989360635\n"
          ]
        }
      ]
    },
    {
      "cell_type": "code",
      "source": [],
      "metadata": {
        "id": "s8OubYW9N98Z"
      },
      "execution_count": null,
      "outputs": []
    }
  ]
}