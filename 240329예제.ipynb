{
  "nbformat": 4,
  "nbformat_minor": 0,
  "metadata": {
    "colab": {
      "provenance": [],
      "authorship_tag": "ABX9TyMxi5AE1eQshXVMJcE1W5TU",
      "include_colab_link": true
    },
    "kernelspec": {
      "name": "python3",
      "display_name": "Python 3"
    },
    "language_info": {
      "name": "python"
    }
  },
  "cells": [
    {
      "cell_type": "markdown",
      "metadata": {
        "id": "view-in-github",
        "colab_type": "text"
      },
      "source": [
        "<a href=\"https://colab.research.google.com/github/minwoo111111/AI-Python/blob/main/240329%EC%98%88%EC%A0%9C.ipynb\" target=\"_parent\"><img src=\"https://colab.research.google.com/assets/colab-badge.svg\" alt=\"Open In Colab\"/></a>"
      ]
    },
    {
      "cell_type": "code",
      "execution_count": null,
      "metadata": {
        "id": "NHdMZ3xcGHaJ"
      },
      "outputs": [],
      "source": []
    },
    {
      "cell_type": "markdown",
      "source": [
        "# 예제1\n",
        "### 분을 입력받아서 시간과 분을 출력하시오. (.format 메소드 활용)\n",
        "####  출력 예) 100 -> 1시간 40분\n",
        "\n",
        "# 예제2\n",
        "### 섭씨온도를 입력받아서 화씨온도를 출력하시오\n",
        "#### 출력 예) 섭씨 31도는 화씨 87.8도 입니다.\n",
        "##### 계산식: F=C*1.8+3.2\n",
        "\n",
        "# 예제3\n",
        "### 원의 반지름을 입력받아서 원의 둘레와 면적을 출력하시오. (PI=3.14)\n",
        "#### 출력 예) 반지름이 15인 원의 둘레는 942이고, 면적은 706.5입니다."
      ],
      "metadata": {
        "id": "HdY0Df4dBQHl"
      }
    },
    {
      "cell_type": "code",
      "source": [
        "#예제1\n",
        "\n",
        "\n",
        "a=int(input(\"분을 입력하세요.\"))\n",
        "hr=a//60\n",
        "min=a-(60*hr)   #min=a%60 으로 하는 게 더 나을 수도\n",
        "\n",
        "#.format 메소드를 사용했을 때\n",
        "print(\"{:d} --> {:d}시간 {:d}분입니다.\".format(a,hr, min))\n",
        "\n",
        "#%를 사용했을 때\n",
        "print(\"%d --> %d %s %d %s\"%(a, hr,\"시간\",min,\"분입니다.\"))"
      ],
      "metadata": {
        "colab": {
          "base_uri": "https://localhost:8080/"
        },
        "id": "wKQ5upHaBvrx",
        "outputId": "d9da8384-3f04-474c-90e2-1360ef19bfc9"
      },
      "execution_count": 7,
      "outputs": [
        {
          "output_type": "stream",
          "name": "stdout",
          "text": [
            "분을 입력하세요.177\n",
            "177 --> 2시간 57분입니다.\n",
            "177 --> 2 시간 57 분입니다.\n"
          ]
        }
      ]
    },
    {
      "cell_type": "code",
      "source": [
        "#예제2\n",
        "\n",
        "c=float(input(\"섭씨온도를 입력하세요.\")) #int로 입력해도 무방\n",
        "f=float(c*1.8)+32\n",
        "print(\"%s %.2f %s %.2f %s\"%(\"섭씨\", c, \"도는 화씨\", f, \"도입니다. 소수점 2자리까지 표시했습니다.\"))"
      ],
      "metadata": {
        "colab": {
          "base_uri": "https://localhost:8080/"
        },
        "id": "J5nWwIK4Cyfe",
        "outputId": "7f167ea9-7d52-482a-9022-497632d8e82f"
      },
      "execution_count": 15,
      "outputs": [
        {
          "output_type": "stream",
          "name": "stdout",
          "text": [
            "섭씨온도를 입력하세요.33\n",
            "섭씨 33.00 도는 화씨 91.40 도입니다. 소수점 2자리까지 표시했습니다.\n"
          ]
        }
      ]
    },
    {
      "cell_type": "code",
      "source": [
        "#예제2 int값으로 입력했을 때도 똑같이..\n",
        "\n",
        "c=int(input(\"섭씨온도를 입력하세요.\"))\n",
        "f=(c*1.8)+32\n",
        "print(\"%s %d %s %.2f %s\"%(\"섭씨\", c, \"도는 화씨\", f, \"도입니다.\"))"
      ],
      "metadata": {
        "colab": {
          "base_uri": "https://localhost:8080/"
        },
        "id": "N71D5pJzIl-6",
        "outputId": "3cfc4b23-3689-4d12-ece6-ac48aa80f0d1"
      },
      "execution_count": 23,
      "outputs": [
        {
          "output_type": "stream",
          "name": "stdout",
          "text": [
            "섭씨온도를 입력하세요.-11\n",
            "섭씨 -11 도는 화씨 12.20 도입니다.\n"
          ]
        }
      ]
    },
    {
      "cell_type": "code",
      "source": [
        "#예제3\n",
        "\n",
        "PI=3.14\n",
        "a=float(input(\"원의 반지름을 입력하세요.\"))\n",
        "cir=a*PI*2\n",
        "area=(cir/2)*a\n",
        "print(\"%s %.2f %s %.2f %s\"%(\"둘레는\", cir, \"이고, 면적은\", area, \"입니다. 소수점은 2자리까지 표시했습니다.\"))"
      ],
      "metadata": {
        "colab": {
          "base_uri": "https://localhost:8080/"
        },
        "id": "PuLadZ7pD2Xt",
        "outputId": "2d6260dc-64b7-4522-a95d-d62f729a7adf"
      },
      "execution_count": 22,
      "outputs": [
        {
          "output_type": "stream",
          "name": "stdout",
          "text": [
            "원의 반지름을 입력하세요.61\n",
            "둘레는 383.08 이고, 면적은 11683.94 입니다. 소수점은 2자리까지 표시했습니다.\n"
          ]
        }
      ]
    }
  ]
}