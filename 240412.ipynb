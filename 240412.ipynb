{
  "nbformat": 4,
  "nbformat_minor": 0,
  "metadata": {
    "colab": {
      "provenance": [],
      "authorship_tag": "ABX9TyN9wsbkxtz3yC7oXBRALuT2",
      "include_colab_link": true
    },
    "kernelspec": {
      "name": "python3",
      "display_name": "Python 3"
    },
    "language_info": {
      "name": "python"
    }
  },
  "cells": [
    {
      "cell_type": "markdown",
      "metadata": {
        "id": "view-in-github",
        "colab_type": "text"
      },
      "source": [
        "<a href=\"https://colab.research.google.com/github/minwoo111111/AI-Python/blob/main/240412.ipynb\" target=\"_parent\"><img src=\"https://colab.research.google.com/assets/colab-badge.svg\" alt=\"Open In Colab\"/></a>"
      ]
    },
    {
      "cell_type": "markdown",
      "source": [
        "list: 순서가 있는 변경 가능한 항목의 컬렉션. 파이썬 내장 자료구조. 정수, 문자열, 실수 등 서로 다른 유형의 데이터 포함 가능. **대괄호[]**\n",
        "데이터 조직, 데이터 접근, 조직 위해 사용.\n",
        "**array: numpy에서 제공. 동일한 유형의 데이터만 포함\n",
        "\n",
        "tuple: 순서가 있는 *변경 불가능한* 항목의 컬렉션. **소괄호()**\n",
        "\n",
        "set: 중복을 **허용하지 않는** 항목의 컬렉션 **중괄호{}**\n",
        "\n",
        "dictionary: 키와 값의 쌍으로 구성된 항목의 컬렉션. {'name': 'john'}\n"
      ],
      "metadata": {
        "id": "JCw5KXSb5wCU"
      }
    },
    {
      "cell_type": "markdown",
      "source": [
        "####참고: 함수와 method의 차이\n",
        "\n",
        "-함수와 메소드는는 기능의 관점에서 볼 수 있음. 호출해서 쓸 수 있음.\n",
        "-함수는 독립적으로 정의.\n",
        "-메소드는 특정한 개체에 종속됨\n",
        "\n",
        "-함수: 내장함수 / 사용자 정의 함수로 구분됨.\n",
        "\n",
        "-메소드와 함수의 호출 방법: 함수명을 씀으로써.\n",
        "function_name(매개변수)    객체이름.method_name(매개변수)\n",
        "이렇게 구분됨."
      ],
      "metadata": {
        "id": "bzx5ZDYM6xmD"
      }
    },
    {
      "cell_type": "code",
      "execution_count": 3,
      "metadata": {
        "colab": {
          "base_uri": "https://localhost:8080/"
        },
        "id": "DHeZ3Svg5qEa",
        "outputId": "f1ddaca7-fdcb-4d0a-bbe2-11327cb36ed8"
      },
      "outputs": [
        {
          "output_type": "stream",
          "name": "stdout",
          "text": [
            "[10, 20, 30, 40]\n",
            "10 40\n",
            "[20, 30]\n"
          ]
        }
      ],
      "source": [
        "a=[10,20,30,'one','two',40]\n",
        "#이렇게 리스트를 만들면 위치정보 (index)가 생김. 0부터 시작..\n",
        "\n",
        "\n",
        "#빈 리스트 생성\n",
        "a=[]\n",
        "a=list()  #이렇게 list 함수를 사용할 수도 있다.\n",
        "\n",
        "#리스트 데이터 항목 사용\n",
        "x=[10,20,30,40]\n",
        "print(x)\n",
        "print(x[0],x[3])\n",
        "print(x[1:3])  #슬라이싱하여 index 1부터 2까지\n",
        "\n",
        "#리스트 항목값 변경\n",
        "f=[\"게임\", \"독서\"]\n",
        "print(f)\n",
        "\n",
        "f[0]=\"스포츠\"\n",
        "print(f)\n",
        "\n",
        "f[2]=\"음악\"  ##리스트 f의 인덱스에는 2라는 범위가 없는데, 이렇듯 인덱스 범위를 벗어나서 처리를 하면 오류가 난다.\n",
        "\n",
        "\n",
        "\n",
        "#리스트에서 사용하는 메소드: append(값), insert(인덱스, 값), extend(리스트)\n",
        "#append는 해당 값을 끝에만 추가하므로 매개 변수를 하나만 주면 됨..\n",
        "\n",
        "x[20]\n",
        "print(x)\n",
        "\n",
        "x.append(30)  #리스트 x의 끝에 30 추가\n",
        "print(x)\n",
        "\n",
        "x.insert(0.10) #index 0번에 10을 삽입해라 -->해당 위치의 값이 사라지는게아니라 그저 밀릴 뿐인..?\n",
        "print(x)\n",
        "\n",
        "x.extend([40,50]) #리스트 뒤에 리스트를 붙임\n",
        "print(x)\n",
        "\n",
        "y=[1,2]\n",
        "z=x+y\n",
        "print(z)\n",
        "\n",
        "x=[10,20,30,40]\n",
        "\n",
        "x.remov..........."
      ]
    },
    {
      "cell_type": "code",
      "source": [
        "#다음 리스트에서 \"Apple\" 요소를 출력하세요\n",
        "fruits=[\"banana\", \"apple\", \"orange\", \"cherry\"]\n",
        "print(fruits[1])\n",
        "\n",
        "#다음 리스트에서 마지막 요소를 출력하세요\n",
        "numbers=[10,20,30,40,50]\n",
        "print(numbers[4])\n",
        "print(numbers[-1]) ###이렇게 해도 마지막꺼 가리킬 수 있음\n",
        "\n",
        "#다음 리스트에서 \"banana\" 요소를 \"grape\"로 변경하세요.\n",
        "fruits=[\"apple\", \"banana\", \"cherry\"]\n",
        "fruits[1]=\"grape\"\n",
        "print(fruits)\n",
        "\n",
        "#다음 리스트에 \"strawberry\"요소를 추가하세요.\n",
        "fruits=[\"apple\", \"banana\", \"cherry\"]\n",
        "fruits.append(\"strawberry\")\n",
        "print(fruits)\n",
        "\n",
        "#다음 리스트에서 30을 제거하세요\n",
        "numbers=[10,20,30,40,50]\n",
        "numbers.remove(30)\n",
        "print(numbers)\n",
        "\n",
        "#다음 리스트의 길이를 출력하시오\n",
        "numbers=[5,10,15,20,25]\n",
        "print(len(numbers))\n",
        "\n",
        "#다음 리스트에서 가장 작은 값과 가장 큰 값을 찾아 출력하세요.\n",
        "numbers=[10,5,8,3,15]\n",
        "print(max(numbers), min(numbers))\n",
        "\n",
        "#다음 리스트의 모든 요소의 합을 계산하여 출력하시오\n",
        "numbers=[10,20,30,40,50]\n",
        "print(sum(numbers))\n",
        "\n",
        "#다음 리스트의 모든 요소를 제곱하여 새로운 리스트를 생성하시오  #다시해보기.....\n",
        "numbers=[1,2,3,4,5]\n",
        "newlist=[] #일단 새로운 비어있는 리스트를 만든다\n",
        "for num in numbers:   #리스트의 각 요소를 제곱한 값을 받게되는 변수 a를 만들고, 이걸로 빈 리스트에 추가\n",
        "  a=num**2\n",
        "  newlist.append(a)\n",
        "print(newlist)\n",
        "\n",
        "\n",
        "#다음 리스트에서 \"apple\" 요소의 개수를 출력하세요\n",
        "fruits=[\"apple\", \"banana\", \"apple\", \"cherry\", \"apple\"]\n",
        "print(fruits.count(\"apple\"))"
      ],
      "metadata": {
        "colab": {
          "base_uri": "https://localhost:8080/"
        },
        "id": "EtMyokimCZhn",
        "outputId": "1c4a38d4-ac73-4b9b-e7ac-f0a91feddf37"
      },
      "execution_count": 14,
      "outputs": [
        {
          "output_type": "stream",
          "name": "stdout",
          "text": [
            "apple\n",
            "50\n",
            "50\n",
            "['apple', 'grape', 'cherry']\n",
            "['apple', 'banana', 'cherry', 'strawberry']\n",
            "[10, 20, 40, 50]\n",
            "5\n",
            "15 3\n",
            "150\n",
            "[1, 4, 9, 16, 25]\n",
            "3\n"
          ]
        }
      ]
    },
    {
      "cell_type": "markdown",
      "source": [
        "##파이썬에서 함수 왜 쓰는가?\n",
        "코드의 재사용성을 높이고, 프로그램을 모듈화하여 관리하기 위해! -->효율적으로 코딩..\n",
        "\n",
        "함수를 정의하고 호출하는 방법: def키워드를 사용해 함수이름, 매개변수(선택적), 함수의동작을 나타내는 코드블록으로 정의. 변수명과 같이 식별자 규칙을 따라야 한다."
      ],
      "metadata": {
        "id": "KY_BsXhuJiWd"
      }
    },
    {
      "cell_type": "code",
      "source": [
        "def add(a, b):  #매개변수를 a.b로 하여 입력을 2개 받음\n",
        "  result=a+b  #a와 b를 더해 result에 저장하라\n",
        "  return result #더한 결과값을 반환한다\n",
        "#이렇게 함수를 정의한 후..\n",
        "\n",
        "sum_result=add(3,5)   #이렇게 호출하여 정의된 add함수를 시작하고, sum_result 변수에..\n",
        "print(sum_result)\n",
        "\n",
        "\n",
        "def square(x):\n",
        "  return x**2\n",
        "\n",
        "  #result=x**2\n",
        "  #return result\n",
        "  #이렇게 해도 된다\n",
        "\n",
        "#이렇게 함수를 정의하고\n",
        "\n",
        "ret=square(5)  #즉, square(5)라는 값은 squre이라 정의된 함수에 의해 5의 제곱으로 변환되는..\n",
        "print(ret)\n",
        "#이렇게 호출하여 사용\n",
        "print(square(5)) #이렇게 사용해도 무방\n",
        "\n",
        "print(square(100))\n",
        "print(square(25))\n",
        "print(square(66))"
      ],
      "metadata": {
        "colab": {
          "base_uri": "https://localhost:8080/"
        },
        "id": "nhucGRItKIbb",
        "outputId": "0a5088e6-11e9-4b49-b363-e37d24d7710a"
      },
      "execution_count": 21,
      "outputs": [
        {
          "output_type": "stream",
          "name": "stdout",
          "text": [
            "8\n",
            "25\n",
            "25\n",
            "10000\n",
            "625\n",
            "4356\n"
          ]
        }
      ]
    },
    {
      "cell_type": "markdown",
      "source": [
        "#다음 리스트의 모든 요소를 제곱하여 새로운 리스트를 생성하시오  <- 이 문제를 함수를 사용해 할 수도 있다.\n",
        "numbers=[1,2,3,4,5]"
      ],
      "metadata": {
        "id": "lEJV09hGMpvB"
      }
    },
    {
      "cell_type": "code",
      "source": [
        "\n",
        "#다음 리스트의 모든 요소를 제곱하여 새로운 리스트를 생성하시오  #다시해보기.....\n",
        "\n",
        "\n",
        "def square(numbers):\n",
        "  newlist=[] #일단 새로운 비어있는 리스트를 만든다\n",
        "  for num in numbers:   #리스트의 각 요소를 제곱한 값을 받게되는 변수 a를 만들고, 이걸로 빈 리스트에 추가\n",
        "    newlist.append(num**2)\n",
        "  return newlist  #매개변수를 전부 제곱해서 새 리스트를 만든 결과값을 반환\n",
        "new=square([1,2,3,4,5]) #square이라는 함수에 이 리스트를 넣으면,함수가 리스트 요소를 전부 제곱해서 새 리스트를 new라는 변수에 만듬\n",
        "print(new)\n",
        "\n",
        "\n",
        "#이렇게 함수를 사용해서 할 수도 있다...\n",
        "\n"
      ],
      "metadata": {
        "colab": {
          "base_uri": "https://localhost:8080/"
        },
        "id": "VX5qbyEzMpWq",
        "outputId": "ecac9636-8357-458f-b6a5-d37527617d2b"
      },
      "execution_count": 27,
      "outputs": [
        {
          "output_type": "stream",
          "name": "stdout",
          "text": [
            "[1, 4, 9, 16, 25]\n"
          ]
        }
      ]
    },
    {
      "cell_type": "markdown",
      "source": [
        "#BMI를 계산하는 함수를 만들어라"
      ],
      "metadata": {
        "id": "CdPapgfBO4q9"
      }
    },
    {
      "cell_type": "code",
      "source": [
        "def BMI(height,weight): #키와 몸무게 계산할 것이므로 매개변수 2개 넣어라\n",
        "  result=weight/((height/100)**2)\n",
        "  return result\n",
        "\n",
        "print(BMI(150,67))  #height와 weight라는 매개변수 2개를 요구하는 BMI함수 호출-->키에 150입력, 몸무게에 67 입력받은 것이 계산된 result값으로 나타남.\n",
        "\n",
        "결과=BMI(150,67)\n",
        "print(결과) #이렇게 출력해도 무방.\n",
        "\n",
        "#bmi지수에 따라 과체중인지 정상인지를 출력하는 것도 덧붙이면 좋음\n"
      ],
      "metadata": {
        "colab": {
          "base_uri": "https://localhost:8080/"
        },
        "id": "RSvS8TN7C_ug",
        "outputId": "0d91d07e-dd93-4d52-c58f-38f510bbcb88"
      },
      "execution_count": 33,
      "outputs": [
        {
          "output_type": "stream",
          "name": "stdout",
          "text": [
            "29.77777777777778\n",
            "29.77777777777778\n"
          ]
        }
      ]
    },
    {
      "cell_type": "code",
      "source": [],
      "metadata": {
        "id": "MaPLcH6xPnBv"
      },
      "execution_count": null,
      "outputs": []
    }
  ]
}