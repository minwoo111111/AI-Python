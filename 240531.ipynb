{
  "nbformat": 4,
  "nbformat_minor": 0,
  "metadata": {
    "colab": {
      "provenance": [],
      "authorship_tag": "ABX9TyNnl7S3XvVBGV2mqXOAZ0dr",
      "include_colab_link": true
    },
    "kernelspec": {
      "name": "python3",
      "display_name": "Python 3"
    },
    "language_info": {
      "name": "python"
    }
  },
  "cells": [
    {
      "cell_type": "markdown",
      "metadata": {
        "id": "view-in-github",
        "colab_type": "text"
      },
      "source": [
        "<a href=\"https://colab.research.google.com/github/minwoo111111/AI-Python/blob/main/240531.ipynb\" target=\"_parent\"><img src=\"https://colab.research.google.com/assets/colab-badge.svg\" alt=\"Open In Colab\"/></a>"
      ]
    },
    {
      "cell_type": "markdown",
      "source": [
        "#인공지능\n",
        "*   분류: 범주형 값을 예측\n",
        "*   회귀: 연속적인 값 예측\n",
        "\n",
        "\n",
        "*   독립변수=입력데이터. 예측에 사용되는 특성\n",
        "*   종속변수=출력데이터. 예측하려는 대상"
      ],
      "metadata": {
        "id": "v3l3KVcbNg5H"
      }
    },
    {
      "cell_type": "markdown",
      "source": [
        "#예측모델 만들기"
      ],
      "metadata": {
        "id": "JsQwfcgLRLjM"
      }
    },
    {
      "cell_type": "code",
      "execution_count": 2,
      "metadata": {
        "colab": {
          "base_uri": "https://localhost:8080/"
        },
        "id": "mpeKUzU2MyoZ",
        "outputId": "1f9b3bd7-cc9e-4447-80dc-6d5ddafe57a7"
      },
      "outputs": [
        {
          "output_type": "stream",
          "name": "stdout",
          "text": [
            "The score of this line for the data:  0.903203123105647\n",
            "[63.71244635 66.47353362]\n"
          ]
        }
      ],
      "source": [
        "#키와 몸무게 데이터를 측정하여 키 값에 대한 몸무게를 예측\n",
        "#키 데이터 : 164, 179, 162, 170\n",
        "#몸무게 데이터 : 53, 63, 55, 59\n",
        "\n",
        "#선형회귀 모델 생성 -scikit-Learn 라이브러리 사용.\n",
        "import numpy as np\n",
        "from sklearn import linear_model #scikit-learn (선형회귀)모듈을 가져옴.\n",
        "regr = linear_model.LinearRegression() #선형회귀 모델 생성\n",
        "\n",
        "#간단한 샘플 데이터를 생성하고 선형회귀에 X, y를 적용한다.\n",
        "X = [[164], [179], [162], [170]] #키 데이터 (입력데이터)\n",
        "y = [53, 63, 55, 59] #몸무게 데이터 (타겟 데이터)\n",
        "regr.fit(X, y)  #fit이라는 메소드로 학습시킴.\n",
        "\n",
        "#예측 정도 확인 및 예측하기\n",
        "score = regr.score(X, y)  #우리가 만든 모델의 예측성능을 평가하는 함수 score()\n",
        "print(\"The score of this line for the data: \", score)\n",
        "input_data = [[180], [185]] #새로 예측해 볼 데이터. 180센치, 185센치면 몸무게가 얼마일지\n",
        "result = regr.predict(input_data)  #predict를 사용해 예측 수행\n",
        "print(result)\n"
      ]
    },
    {
      "cell_type": "code",
      "source": [
        "#실제 데이터 시각화\n",
        "import numpy as np\n",
        "from sklearn import linear_model\n",
        "import matplotlib.pyplot as plt\n",
        "regr = linear_model.LinearRegression()  #선형회귀 모델 생성\n",
        "X = [[164], [179], [162], [170]]\n",
        "y = [53, 63, 55, 59]\n",
        "\n",
        "regr.fit(X, y)  #x,y를 이용해 선형회귀 모델 학습해서 만들기\n",
        "\n",
        "plt.scatter(X, y) #x,y만 사용해 예측없이 일단 산포도 만들기\n",
        "y_pred = regr.predict(X)  #y는 x에대한 예측값이다\n",
        "plt.plot(X, y_pred, color = 'blue', linewidth = 3)  #계산된 예측값에 대한 그래프\n",
        "plt.show()\n"
      ],
      "metadata": {
        "colab": {
          "base_uri": "https://localhost:8080/",
          "height": 430
        },
        "id": "at6lVpHASfEU",
        "outputId": "df249380-5287-4842-86af-5f4dc2a837ef"
      },
      "execution_count": 9,
      "outputs": [
        {
          "output_type": "display_data",
          "data": {
            "text/plain": [
              "<Figure size 640x480 with 1 Axes>"
            ],
            "image/png": "[encoded data removed]"
          },
          "metadata": {}
        }
      ]
    },
    {
      "cell_type": "markdown",
      "source": [
        "#선형회귀 알고리즘을 이용한 회귀 모델 만들기\n",
        "###재배 면적과 수확량이 주어졌을 때 선형 회귀 머신러닝 모델을 완성하고, 모델을 평가한다.\n",
        "###재배면적과 수확량에 대한 예측을 하기"
      ],
      "metadata": {
        "id": "_xIzAgdgU-Yr"
      }
    },
    {
      "cell_type": "code",
      "source": [
        "x=[[2.1], [10], [3], [1], [3.5], [5], [8]]    #x가 2차원 데이터인 이유는??\n",
        "y=[64.9,292.6, 85.9, 30.92, 110.5, 163.4, 163.4]\n",
        "\n",
        "plt.scatter(x,y)   #**상관도 분석**: 대충 시각화해서 상관관계 분석해보기\n",
        "plt.show()\n",
        "\n",
        "\n",
        "regr = linear_model.LinearRegression()  #선형회귀 모델 가져옴\n",
        "regr.fit(x,y)  #우리 데이터에 기반한 선형회귀 모델 만들기\n",
        "\n",
        "regr.score(x,y) #모델 성능 평가하기.\n",
        "\n",
        "input_data=[[7],[12]]\n",
        "pred=regr.predict(input_data)  #입력한 데이터에 대한 예측값 생성하기\n",
        "print(pred)\n",
        "\n",
        "\n",
        "y_pred=regr.predict(x)\n",
        "plt.plot(x,y_pred)   #기존 x에 대한 y의 예측값 그래프\n",
        "plt.show"
      ],
      "metadata": {
        "colab": {
          "base_uri": "https://localhost:8080/",
          "height": 1000
        },
        "id": "7_JBAWW-Vazv",
        "outputId": "d11b26ae-4969-4d0a-9474-a0a53506f6b9"
      },
      "execution_count": 25,
      "outputs": [
        {
          "output_type": "display_data",
          "data": {
            "text/plain": [
              "<Figure size 640x480 with 1 Axes>"
            ],
            "image/png": "[encoded data removed]"
          },
          "metadata": {}
        },
        {
          "output_type": "stream",
          "name": "stdout",
          "text": [
            "[189.55106566 316.14785212]\n"
          ]
        },
        {
          "output_type": "execute_result",
          "data": {
            "text/plain": [
              "<function matplotlib.pyplot.show(close=None, block=None)>"
            ],
            "text/html": [
              "<div style=\"max-width:800px; border: 1px solid var(--colab-border-color);\"><style>\n",
              "      pre.function-repr-contents {\n",
              "        overflow-x: auto;\n",
              "        padding: 8px 12px;\n",
              "        max-height: 500px;\n",
              "      }\n",
              "\n",
              "      pre.function-repr-contents.function-repr-contents-collapsed {\n",
              "        cursor: pointer;\n",
              "        max-height: 100px;\n",
              "      }\n",
              "    </style>\n",
              "    <pre style=\"white-space: initial; background:\n",
              "         var(--colab-secondary-surface-color); padding: 8px 12px;\n",
              "         border-bottom: 1px solid var(--colab-border-color);\"><b>matplotlib.pyplot.show</b><br/>def show(*args, **kwargs)</pre><pre class=\"function-repr-contents function-repr-contents-collapsed\" style=\"\"><a class=\"filepath\" style=\"display:none\" href=\"#\">/usr/local/lib/python3.10/dist-packages/matplotlib/pyplot.py</a>Display all open figures.\n",
              "\n",
              "Parameters\n",
              "----------\n",
              "block : bool, optional\n",
              "    Whether to wait for all figures to be closed before returning.\n",
              "\n",
              "    If `True` block and run the GUI main loop until all figure windows\n",
              "    are closed.\n",
              "\n",
              "    If `False` ensure that all figure windows are displayed and return\n",
              "    immediately.  In this case, you are responsible for ensuring\n",
              "    that the event loop is running to have responsive figures.\n",
              "\n",
              "    Defaults to True in non-interactive mode and to False in interactive\n",
              "    mode (see `.pyplot.isinteractive`).\n",
              "\n",
              "See Also\n",
              "--------\n",
              "ion : Enable interactive mode, which shows / updates the figure after\n",
              "      every plotting command, so that calling ``show()`` is not necessary.\n",
              "ioff : Disable interactive mode.\n",
              "savefig : Save the figure to an image file instead of showing it on screen.\n",
              "\n",
              "Notes\n",
              "-----\n",
              "**Saving figures to file and showing a window at the same time**\n",
              "\n",
              "If you want an image file as well as a user interface window, use\n",
              "`.pyplot.savefig` before `.pyplot.show`. At the end of (a blocking)\n",
              "``show()`` the figure is closed and thus unregistered from pyplot. Calling\n",
              "`.pyplot.savefig` afterwards would save a new and thus empty figure. This\n",
              "limitation of command order does not apply if the show is non-blocking or\n",
              "if you keep a reference to the figure and use `.Figure.savefig`.\n",
              "\n",
              "**Auto-show in jupyter notebooks**\n",
              "\n",
              "The jupyter backends (activated via ``%matplotlib inline``,\n",
              "``%matplotlib notebook``, or ``%matplotlib widget``), call ``show()`` at\n",
              "the end of every cell by default. Thus, you usually don&#x27;t have to call it\n",
              "explicitly there.</pre>\n",
              "      <script>\n",
              "      if (google.colab.kernel.accessAllowed && google.colab.files && google.colab.files.view) {\n",
              "        for (const element of document.querySelectorAll('.filepath')) {\n",
              "          element.style.display = 'block'\n",
              "          element.onclick = (event) => {\n",
              "            event.preventDefault();\n",
              "            event.stopPropagation();\n",
              "            google.colab.files.view(element.textContent, 401);\n",
              "          };\n",
              "        }\n",
              "      }\n",
              "      for (const element of document.querySelectorAll('.function-repr-contents')) {\n",
              "        element.onclick = (event) => {\n",
              "          event.preventDefault();\n",
              "          event.stopPropagation();\n",
              "          element.classList.toggle('function-repr-contents-collapsed');\n",
              "        };\n",
              "      }\n",
              "      </script>\n",
              "      </div>"
            ]
          },
          "metadata": {},
          "execution_count": 25
        },
        {
          "output_type": "display_data",
          "data": {
            "text/plain": [
              "<Figure size 640x480 with 1 Axes>"
            ],
            "image/png": "[encoded data removed]"
          },
          "metadata": {}
        }
      ]
    },
    {
      "cell_type": "markdown",
      "source": [],
      "metadata": {
        "id": "p_LPbUsfVLyP"
      }
    },
    {
      "cell_type": "markdown",
      "source": [
        "#부모의 키 데이터를 측정하여 자녀의 키가 속하는 그룹 예측하기\n",
        "###입력데이터(특성)이 2개가 되는 것.\n",
        "###만일 아빠가 175, 엄마가 153이면 자녀의 키는 어느 그룹에 속할지 예측해보기.\n",
        "###결정트리 모델을 사용하여"
      ],
      "metadata": {
        "id": "pJ-yUA-MYas9"
      }
    },
    {
      "cell_type": "code",
      "source": [
        "#훈련 데이터\n",
        "parents_height=[[180,165],[175,160],[180,172],[165,160],[171,152]]   #이걸 2차원으로 하는 이유는, 입력 데이터 특성에 여러 요소를 넣는 경우가 있기 때문임\n",
        "child_height=[3,2,1,1,1]\n",
        "\n",
        "#사이킷런 결정트리 모델 생성.\n",
        "from sklearn import tree\n",
        "dt_model=tree.DecisionTreeClassifier()   #결정트리 모델 가져옴. 출력데이터인 자녀 키가 어떤 연속된 수가 아닌 세 범주이므로...\n",
        "\n",
        "#훈련 데이터로 학습한 모델 만들기 (모델에 데이터 적용)\n",
        "dt_model.fit(parents_height, child_height)   #부모 키에 대한 자녀 키를 훈련데이터로 학습해서 모델 만듬\n",
        "\n",
        "#부모가 175, 153인 경우 자녀의 키 예측해보기\n",
        "dt_pred=dt_model.predict([[175,153]])\n",
        "print(dt_pred)\n",
        "\n",
        "#input_data=[[175,153]]\n",
        "#dt_pred=dt_model.predict(input_data)   라고 하여도 무방함."
      ],
      "metadata": {
        "colab": {
          "base_uri": "https://localhost:8080/"
        },
        "id": "nNjU-gFITyJc",
        "outputId": "01e90571-76c3-4aad-d4b1-a0ffa439f2d3"
      },
      "execution_count": 24,
      "outputs": [
        {
          "output_type": "stream",
          "name": "stdout",
          "text": [
            "[2]\n"
          ]
        }
      ]
    },
    {
      "cell_type": "markdown",
      "source": [
        "#Kaggle에서 Student Marks Dataset 가져와서 예측하는 인공지능 만드기\n",
        "#내부 구조를 보면, 수강강좌수, 공부시간, 점수가 있음\n"
      ],
      "metadata": {
        "id": "WKL-upiaeysM"
      }
    },
    {
      "cell_type": "code",
      "source": [
        "import pandas as pd\n",
        "std_df=pd.read_csv('Student_Marks.csv')\n",
        "\n",
        "#데이터탐색 및전처리\n",
        "\n",
        "\n",
        "\n",
        "std_df.describe()   #기본적 데이터 통계치 출력\n",
        "std_df.info()   #기본적 데이터 속성 출력\n",
        "std_df.head()\n",
        "std_df.tail()  #데이터 상위부분과 하위부분 확인\n",
        "#기타 중복데이터나 결측치 제거해주면 좋긴 할텐데 없으니 패스\n",
        "\n",
        "\n",
        "#각 속성의 상관관계\n",
        "std_df.corr()   #각 속성 간의 상관관계 파악   --> 공부시간과 점수 사이의 상관관계가 가장 높다!\n",
        "import matplotlib.pyplot as plt\n",
        "import seaborn as sns\n",
        "\n",
        "sns.scatterplot(x='number_courses',y='Marks', data=std_df)\n",
        "plt.show()\n",
        "sns.scatterplot(x='time_study', y='Marks', data=std_df)\n",
        "plt.show()   #이렇게 산점도로도 파악해봤을 때, 수강강좌수와 점수 사이의 상관관계는 발견할 수 없었지만, 공부시간과 점수 사이의 상관관계는 발견할 수 있었음\n",
        "\n",
        "\n",
        "#sns.regplot(x=std_df['time_study'],y=std_df['Marks'])\n",
        "#plt.show()\n",
        "#이런식으로 관계 표현해볼 수도 있음\n",
        "\n",
        "\n",
        "#데이터셋을 훈련셋과 테스트셋으로 분할하기. 보통 모든 데이터셋으로 훈련하지 않음. 8:2비율 정도로 분할함\n",
        "from sklearn.model_selection import train_test_split\n",
        "x=std_df.drop('Marks', axis=1)   #우리는 수강강좌수 혹은 공부시간 대비 성적에 관해 분석할 것이므로, x축에 점수는 불필요하다. 따라서 drop해줌\n",
        "y=std_df['Marks']\n",
        "\n",
        "x_train, x_test, y_train, y_test=train_test_split(x,y, test_size=0.2, random_state=42) #훈련셋과 테스트셋을 8:2비율로 분할함\n",
        "\n",
        "\n",
        "\n",
        "#모델 생성 및 학습하기\n",
        "\n",
        "from sklearn.linear_model import LinearRegression\n",
        "lr_model=LinearRegression()    #사이킷런에서 선형회귀 모델 갖고옴\n",
        "\n",
        "lr_model.fit(x_train,y_train)   #이제 아까 분할한 훈련 데이터셋을 사용해 선형회귀모델을 학습시킴\n",
        "\n",
        "\n",
        "\n",
        "\n",
        "\n",
        "#예측하기\n",
        "lr_pred=lr.model.predict(x_test)   #테스트셋으로 예측해봄\n",
        "\n",
        "#모델 평가하기\n",
        "from sklearn.metrics import r2_score\n",
        "from sklearn.metrics import mean_squared_error\n",
        "r2_score(lr_pred, y_test)   #예측 모델의 점수\n",
        "mean_squared_error(lr_pred, y_test)  #테스트셋과 예측치의 오차?? 아무튼 높을수록 좋음.\n",
        "\n",
        "\n"
      ],
      "metadata": {
        "colab": {
          "base_uri": "https://localhost:8080/",
          "height": 837
        },
        "id": "JYv0sXAHaIy7",
        "outputId": "a7ca44e0-d9a4-41ed-ddf7-433e6109a499"
      },
      "execution_count": 31,
      "outputs": [
        {
          "output_type": "stream",
          "name": "stdout",
          "text": [
            "<class 'pandas.core.frame.DataFrame'>\n",
            "RangeIndex: 100 entries, 0 to 99\n",
            "Data columns (total 3 columns):\n",
            " #   Column          Non-Null Count  Dtype  \n",
            "---  ------          --------------  -----  \n",
            " 0   number_courses  100 non-null    int64  \n",
            " 1   time_study      100 non-null    float64\n",
            " 2   Marks           100 non-null    float64\n",
            "dtypes: float64(2), int64(1)\n",
            "memory usage: 2.5 KB\n"
          ]
        },
        {
          "output_type": "display_data",
          "data": {
            "text/plain": [
              "<Figure size 640x480 with 1 Axes>"
            ],
            "image/png": "[encoded data removed]"
          },
          "metadata": {}
        },
        {
          "output_type": "error",
          "ename": "AttributeError",
          "evalue": "'LinearRegression' object has no attribute 'fix'",
          "traceback": [
            "\u001b[0;31m---------------------------------------------------------------------------\u001b[0m",
            "\u001b[0;31mAttributeError\u001b[0m                            Traceback (most recent call last)",
            "\u001b[0;32m<ipython-input-31-9abc8dee643f>\u001b[0m in \u001b[0;36m<cell line: 44>\u001b[0;34m()\u001b[0m\n\u001b[1;32m     42\u001b[0m \u001b[0mlr_model\u001b[0m\u001b[0;34m=\u001b[0m\u001b[0mLinearRegression\u001b[0m\u001b[0;34m(\u001b[0m\u001b[0;34m)\u001b[0m    \u001b[0;31m#사이킷런에서 선형회귀 모델 갖고옴\u001b[0m\u001b[0;34m\u001b[0m\u001b[0;34m\u001b[0m\u001b[0m\n\u001b[1;32m     43\u001b[0m \u001b[0;34m\u001b[0m\u001b[0m\n\u001b[0;32m---> 44\u001b[0;31m \u001b[0mlr_model\u001b[0m\u001b[0;34m.\u001b[0m\u001b[0mfix\u001b[0m\u001b[0;34m(\u001b[0m\u001b[0mx_train\u001b[0m\u001b[0;34m,\u001b[0m\u001b[0my_train\u001b[0m\u001b[0;34m)\u001b[0m   \u001b[0;31m#이제 아까 분할한 훈련 데이터셋을 사용해 선형회귀모델을 학습시킴\u001b[0m\u001b[0;34m\u001b[0m\u001b[0;34m\u001b[0m\u001b[0m\n\u001b[0m\u001b[1;32m     45\u001b[0m \u001b[0;34m\u001b[0m\u001b[0m\n\u001b[1;32m     46\u001b[0m \u001b[0;34m\u001b[0m\u001b[0m\n",
            "\u001b[0;31mAttributeError\u001b[0m: 'LinearRegression' object has no attribute 'fix'"
          ]
        }
      ]
    },
    {
      "cell_type": "markdown",
      "source": [
        "과제2에나왔던것처럼 데이터분석과 머신러닝...\n",
        "\n",
        "\n",
        "실기는 oj로 안함.\n",
        "\n",
        "\n",
        "치트시트는 제공해줄것임.\n",
        "\n",
        "\n",
        "판다스, 넘파이 등 설치해줘야함 따로.\n",
        "\n",
        "주피터노트북이 이미 외부 라이브러리 다 깔려있어서 편리할 것..\n"
      ],
      "metadata": {
        "id": "e7rPvPpJmvy6"
      }
    },
    {
      "cell_type": "code",
      "source": [
        "\n"
      ],
      "metadata": {
        "id": "mOFS3Xr1hmTd"
      },
      "execution_count": null,
      "outputs": []
    }
  ]
}